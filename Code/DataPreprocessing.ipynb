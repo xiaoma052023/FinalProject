{
 "cells": [
  {
   "cell_type": "markdown",
   "source": [
    "# Data preprocessing"
   ],
   "metadata": {
    "collapsed": false
   }
  },
  {
   "cell_type": "markdown",
   "source": [
    "## Check the dataset"
   ],
   "metadata": {
    "collapsed": false
   }
  },
  {
   "cell_type": "markdown",
   "source": [
    "Import the packages"
   ],
   "metadata": {
    "collapsed": false
   }
  },
  {
   "cell_type": "code",
   "execution_count": 169,
   "outputs": [],
   "source": [
    "import pandas as pd\n",
    "import numpy as np"
   ],
   "metadata": {
    "collapsed": false,
    "ExecuteTime": {
     "end_time": "2023-08-08T15:47:23.158628800Z",
     "start_time": "2023-08-08T15:47:23.148542900Z"
    }
   }
  },
  {
   "cell_type": "code",
   "execution_count": 170,
   "outputs": [],
   "source": [
    "df=pd.read_csv('../OriginalDataset/data_weather.csv')"
   ],
   "metadata": {
    "collapsed": false,
    "ExecuteTime": {
     "end_time": "2023-08-08T15:47:36.985018700Z",
     "start_time": "2023-08-08T15:47:36.954679400Z"
    }
   }
  },
  {
   "cell_type": "code",
   "execution_count": 171,
   "outputs": [
    {
     "data": {
      "text/plain": "       date  cloud_cover  sunshine  global_radiation  max_temp  mean_temp  min_temp  precipitation  pressure  snow_depth\n0  19790101          2.0       7.0              52.0       2.3       -4.1      -7.5            0.4  101900.0         9.0\n1  19790102          6.0       1.7              27.0       1.6       -2.6      -7.5            0.0  102530.0         8.0\n2  19790103          5.0       0.0              13.0       1.3       -2.8      -7.2            0.0  102050.0         4.0",
      "text/html": "<div>\n<style scoped>\n    .dataframe tbody tr th:only-of-type {\n        vertical-align: middle;\n    }\n\n    .dataframe tbody tr th {\n        vertical-align: top;\n    }\n\n    .dataframe thead th {\n        text-align: right;\n    }\n</style>\n<table border=\"1\" class=\"dataframe\">\n  <thead>\n    <tr style=\"text-align: right;\">\n      <th></th>\n      <th>date</th>\n      <th>cloud_cover</th>\n      <th>sunshine</th>\n      <th>global_radiation</th>\n      <th>max_temp</th>\n      <th>mean_temp</th>\n      <th>min_temp</th>\n      <th>precipitation</th>\n      <th>pressure</th>\n      <th>snow_depth</th>\n    </tr>\n  </thead>\n  <tbody>\n    <tr>\n      <th>0</th>\n      <td>19790101</td>\n      <td>2.0</td>\n      <td>7.0</td>\n      <td>52.0</td>\n      <td>2.3</td>\n      <td>-4.1</td>\n      <td>-7.5</td>\n      <td>0.4</td>\n      <td>101900.0</td>\n      <td>9.0</td>\n    </tr>\n    <tr>\n      <th>1</th>\n      <td>19790102</td>\n      <td>6.0</td>\n      <td>1.7</td>\n      <td>27.0</td>\n      <td>1.6</td>\n      <td>-2.6</td>\n      <td>-7.5</td>\n      <td>0.0</td>\n      <td>102530.0</td>\n      <td>8.0</td>\n    </tr>\n    <tr>\n      <th>2</th>\n      <td>19790103</td>\n      <td>5.0</td>\n      <td>0.0</td>\n      <td>13.0</td>\n      <td>1.3</td>\n      <td>-2.8</td>\n      <td>-7.2</td>\n      <td>0.0</td>\n      <td>102050.0</td>\n      <td>4.0</td>\n    </tr>\n  </tbody>\n</table>\n</div>"
     },
     "execution_count": 171,
     "metadata": {},
     "output_type": "execute_result"
    }
   ],
   "source": [
    "df.head(3)"
   ],
   "metadata": {
    "collapsed": false,
    "ExecuteTime": {
     "end_time": "2023-08-08T15:47:36.998455800Z",
     "start_time": "2023-08-08T15:47:36.985018700Z"
    }
   }
  },
  {
   "cell_type": "code",
   "execution_count": 172,
   "outputs": [
    {
     "data": {
      "text/plain": "           date  cloud_cover  sunshine  global_radiation  max_temp  mean_temp  min_temp  precipitation  pressure  snow_depth\n15338  20201229          7.0       0.0              21.0       4.1        2.6       1.1            0.0   98830.0         NaN\n15339  20201230          6.0       0.4              22.0       5.6        2.7      -0.1            0.0  100200.0         NaN\n15340  20201231          7.0       1.3              34.0       1.5       -0.8      -3.1            0.0  100500.0         NaN",
      "text/html": "<div>\n<style scoped>\n    .dataframe tbody tr th:only-of-type {\n        vertical-align: middle;\n    }\n\n    .dataframe tbody tr th {\n        vertical-align: top;\n    }\n\n    .dataframe thead th {\n        text-align: right;\n    }\n</style>\n<table border=\"1\" class=\"dataframe\">\n  <thead>\n    <tr style=\"text-align: right;\">\n      <th></th>\n      <th>date</th>\n      <th>cloud_cover</th>\n      <th>sunshine</th>\n      <th>global_radiation</th>\n      <th>max_temp</th>\n      <th>mean_temp</th>\n      <th>min_temp</th>\n      <th>precipitation</th>\n      <th>pressure</th>\n      <th>snow_depth</th>\n    </tr>\n  </thead>\n  <tbody>\n    <tr>\n      <th>15338</th>\n      <td>20201229</td>\n      <td>7.0</td>\n      <td>0.0</td>\n      <td>21.0</td>\n      <td>4.1</td>\n      <td>2.6</td>\n      <td>1.1</td>\n      <td>0.0</td>\n      <td>98830.0</td>\n      <td>NaN</td>\n    </tr>\n    <tr>\n      <th>15339</th>\n      <td>20201230</td>\n      <td>6.0</td>\n      <td>0.4</td>\n      <td>22.0</td>\n      <td>5.6</td>\n      <td>2.7</td>\n      <td>-0.1</td>\n      <td>0.0</td>\n      <td>100200.0</td>\n      <td>NaN</td>\n    </tr>\n    <tr>\n      <th>15340</th>\n      <td>20201231</td>\n      <td>7.0</td>\n      <td>1.3</td>\n      <td>34.0</td>\n      <td>1.5</td>\n      <td>-0.8</td>\n      <td>-3.1</td>\n      <td>0.0</td>\n      <td>100500.0</td>\n      <td>NaN</td>\n    </tr>\n  </tbody>\n</table>\n</div>"
     },
     "execution_count": 172,
     "metadata": {},
     "output_type": "execute_result"
    }
   ],
   "source": [
    "df.tail(3)"
   ],
   "metadata": {
    "collapsed": false,
    "ExecuteTime": {
     "end_time": "2023-08-08T15:47:37.014871600Z",
     "start_time": "2023-08-08T15:47:37.000465Z"
    }
   }
  },
  {
   "cell_type": "code",
   "execution_count": 173,
   "outputs": [
    {
     "name": "stdout",
     "output_type": "stream",
     "text": [
      "date                  int64\n",
      "cloud_cover         float64\n",
      "sunshine            float64\n",
      "global_radiation    float64\n",
      "max_temp            float64\n",
      "mean_temp           float64\n",
      "min_temp            float64\n",
      "precipitation       float64\n",
      "pressure            float64\n",
      "snow_depth          float64\n",
      "dtype: object\n"
     ]
    }
   ],
   "source": [
    "print(df.dtypes)"
   ],
   "metadata": {
    "collapsed": false,
    "ExecuteTime": {
     "end_time": "2023-08-08T15:47:37.034027400Z",
     "start_time": "2023-08-08T15:47:37.014871600Z"
    }
   }
  },
  {
   "cell_type": "markdown",
   "source": [
    "Find the number of null values for each feature"
   ],
   "metadata": {
    "collapsed": false
   }
  },
  {
   "cell_type": "code",
   "execution_count": 174,
   "outputs": [
    {
     "name": "stdout",
     "output_type": "stream",
     "text": [
      "date                   0\n",
      "cloud_cover           19\n",
      "sunshine               0\n",
      "global_radiation      19\n",
      "max_temp               6\n",
      "mean_temp             36\n",
      "min_temp               2\n",
      "precipitation          6\n",
      "pressure               4\n",
      "snow_depth          1441\n",
      "dtype: int64\n"
     ]
    }
   ],
   "source": [
    "null_values=df.isnull().sum()\n",
    "print(null_values)"
   ],
   "metadata": {
    "collapsed": false,
    "ExecuteTime": {
     "end_time": "2023-08-08T15:47:37.112530400Z",
     "start_time": "2023-08-08T15:47:37.022690900Z"
    }
   }
  },
  {
   "cell_type": "markdown",
   "source": [
    "Convert the 'date' to date type"
   ],
   "metadata": {
    "collapsed": false
   }
  },
  {
   "cell_type": "code",
   "execution_count": 175,
   "outputs": [
    {
     "data": {
      "text/plain": "0   1979-01-01\n1   1979-01-02\n2   1979-01-03\nName: date, dtype: datetime64[ns]"
     },
     "execution_count": 175,
     "metadata": {},
     "output_type": "execute_result"
    }
   ],
   "source": [
    "df['date']=pd.to_datetime(df['date'], format='%Y%m%d')\n",
    "df['date'].head(3)"
   ],
   "metadata": {
    "collapsed": false,
    "ExecuteTime": {
     "end_time": "2023-08-08T15:47:37.151133400Z",
     "start_time": "2023-08-08T15:47:37.032851900Z"
    }
   }
  },
  {
   "cell_type": "markdown",
   "source": [
    "## Data imputation"
   ],
   "metadata": {
    "collapsed": false
   }
  },
  {
   "cell_type": "markdown",
   "source": [
    "### Impute cloud_cover"
   ],
   "metadata": {
    "collapsed": false
   }
  },
  {
   "cell_type": "code",
   "execution_count": 176,
   "outputs": [
    {
     "name": "stdout",
     "output_type": "stream",
     "text": [
      "0\n"
     ]
    }
   ],
   "source": [
    "# Impute NaN in cloud_cover with linear method\n",
    "df['cloud_cover']=df['cloud_cover'].interpolate(method='linear', limit_direction='both')\n",
    "df['cloud_cover']=df['cloud_cover'].round(1)\n",
    "\n",
    "print(df['cloud_cover'].isnull().sum())"
   ],
   "metadata": {
    "collapsed": false,
    "ExecuteTime": {
     "end_time": "2023-08-08T15:47:37.151133400Z",
     "start_time": "2023-08-08T15:47:37.053116700Z"
    }
   }
  },
  {
   "cell_type": "markdown",
   "source": [
    "### Impute global_radiation"
   ],
   "metadata": {
    "collapsed": false
   }
  },
  {
   "cell_type": "code",
   "execution_count": 177,
   "outputs": [
    {
     "name": "stdout",
     "output_type": "stream",
     "text": [
      "0\n"
     ]
    }
   ],
   "source": [
    "# Impute NaN in global_radiation with linear method\n",
    "df['global_radiation']=df['global_radiation'].interpolate(method='linear', limit_direction='both')\n",
    "df['global_radiation']=df['global_radiation'].round(1)\n",
    "\n",
    "print(df['global_radiation'].isnull().sum())\n"
   ],
   "metadata": {
    "collapsed": false,
    "ExecuteTime": {
     "end_time": "2023-08-08T15:47:37.206206300Z",
     "start_time": "2023-08-08T15:47:37.065867200Z"
    }
   }
  },
  {
   "cell_type": "markdown",
   "source": [
    "### Impute precipitation"
   ],
   "metadata": {
    "collapsed": false
   }
  },
  {
   "cell_type": "code",
   "execution_count": 178,
   "outputs": [
    {
     "name": "stdout",
     "output_type": "stream",
     "text": [
      "0\n"
     ]
    }
   ],
   "source": [
    "# Impute NaN in precipitation with linear method\n",
    "df['precipitation']=df['precipitation'].interpolate(method='linear', limit_direction='both')\n",
    "df['precipitation']=df['precipitation'].round(1)\n",
    "\n",
    "print(df['precipitation'].isnull().sum())"
   ],
   "metadata": {
    "collapsed": false,
    "ExecuteTime": {
     "end_time": "2023-08-08T15:47:37.206206300Z",
     "start_time": "2023-08-08T15:47:37.067867900Z"
    }
   }
  },
  {
   "cell_type": "markdown",
   "source": [
    "### Impute pressure"
   ],
   "metadata": {
    "collapsed": false
   }
  },
  {
   "cell_type": "code",
   "execution_count": 179,
   "outputs": [
    {
     "name": "stdout",
     "output_type": "stream",
     "text": [
      "0\n"
     ]
    }
   ],
   "source": [
    "# Impute NaN in pressure with linear method\n",
    "df['pressure']=df['pressure'].interpolate(method='linear', limit_direction='both')\n",
    "df['pressure']=df['pressure'].round(1)\n",
    "\n",
    "print(df['pressure'].isnull().sum())"
   ],
   "metadata": {
    "collapsed": false,
    "ExecuteTime": {
     "end_time": "2023-08-08T15:47:37.206206300Z",
     "start_time": "2023-08-08T15:47:37.075854200Z"
    }
   }
  },
  {
   "cell_type": "markdown",
   "source": [
    "### Impute temperature"
   ],
   "metadata": {
    "collapsed": false
   }
  },
  {
   "cell_type": "markdown",
   "source": [
    "Impute min_temp"
   ],
   "metadata": {
    "collapsed": false
   }
  },
  {
   "cell_type": "code",
   "execution_count": 180,
   "outputs": [
    {
     "name": "stdout",
     "output_type": "stream",
     "text": [
      "0\n"
     ]
    }
   ],
   "source": [
    "# Impute NaN in global_radiation with linear method\n",
    "df['min_temp']=df['min_temp'].interpolate(method='linear', limit_direction='both')\n",
    "df['min_temp']=df['min_temp'].round(1)\n",
    "\n",
    "print(df['min_temp'].isnull().sum())"
   ],
   "metadata": {
    "collapsed": false,
    "ExecuteTime": {
     "end_time": "2023-08-08T15:47:37.222603200Z",
     "start_time": "2023-08-08T15:47:37.083745Z"
    }
   }
  },
  {
   "cell_type": "markdown",
   "source": [
    "Impute max_temp"
   ],
   "metadata": {
    "collapsed": false
   }
  },
  {
   "cell_type": "code",
   "execution_count": 181,
   "outputs": [
    {
     "name": "stdout",
     "output_type": "stream",
     "text": [
      "0\n"
     ]
    }
   ],
   "source": [
    "# Impute NaN in global_radiation with linear method\n",
    "df['max_temp']=df['max_temp'].interpolate(method='linear', limit_direction='both')\n",
    "df['max_temp']=df['max_temp'].round(1)\n",
    "\n",
    "print(df['max_temp'].isnull().sum())"
   ],
   "metadata": {
    "collapsed": false,
    "ExecuteTime": {
     "end_time": "2023-08-08T15:47:37.222603200Z",
     "start_time": "2023-08-08T15:47:37.093075500Z"
    }
   }
  },
  {
   "cell_type": "markdown",
   "source": [
    "Impute mean_temp"
   ],
   "metadata": {
    "collapsed": false
   }
  },
  {
   "cell_type": "code",
   "execution_count": 182,
   "outputs": [
    {
     "name": "stdout",
     "output_type": "stream",
     "text": [
      "0\n"
     ]
    }
   ],
   "source": [
    "# Find the rows whose value of mean_temp is NaN\n",
    "null_rows=df[df['mean_temp'].isnull()]\n",
    "\n",
    "# Calculate the mean value of min_temp and max_temp\n",
    "for index, row in null_rows.iterrows():\n",
    "    min_temp=row['min_temp']\n",
    "    max_temp=row['max_temp']\n",
    "    mean_temp=np.mean([min_temp, max_temp])\n",
    "    df.at[index,'mean_temp']=mean_temp\n",
    "\n",
    "df['mean_temp']=df['mean_temp'].round(1)\n",
    "print(df['mean_temp'].isnull().sum())"
   ],
   "metadata": {
    "collapsed": false,
    "ExecuteTime": {
     "end_time": "2023-08-08T15:47:37.225603Z",
     "start_time": "2023-08-08T15:47:37.099766300Z"
    }
   }
  },
  {
   "cell_type": "markdown",
   "source": [
    "### Impute snow_depth"
   ],
   "metadata": {
    "collapsed": false
   }
  },
  {
   "cell_type": "markdown",
   "source": [
    "Calculate the number of days whose snow_depth is not zero for each month"
   ],
   "metadata": {
    "collapsed": false
   }
  },
  {
   "cell_type": "code",
   "execution_count": 183,
   "outputs": [
    {
     "name": "stdout",
     "output_type": "stream",
     "text": [
      "month\n",
      "1     56\n",
      "2     48\n",
      "3      6\n",
      "4      2\n",
      "5      0\n",
      "6      0\n",
      "7      0\n",
      "8      0\n",
      "9      0\n",
      "10     0\n",
      "11     0\n",
      "12    28\n",
      "Name: snow_depth, dtype: int64\n"
     ]
    }
   ],
   "source": [
    "df['year']=df['date'].dt.year\n",
    "df['month']=df['date'].dt.month\n",
    "\n",
    "snow_days_notzero=df[df['snow_depth'] != 0].groupby(['month'])['snow_depth'].count()\n",
    "print(snow_days_notzero)"
   ],
   "metadata": {
    "collapsed": false,
    "ExecuteTime": {
     "end_time": "2023-08-08T15:47:37.226602100Z",
     "start_time": "2023-08-08T15:47:37.112864900Z"
    }
   }
  },
  {
   "cell_type": "markdown",
   "source": [
    "We can learn that from May to November, there are no days that have snow_depth and there are only 2 days with snow_depth in April and 6 days in March with forty years. So impute NaN of snow_depth to 0 in these months as follows."
   ],
   "metadata": {
    "collapsed": false
   }
  },
  {
   "cell_type": "code",
   "execution_count": 184,
   "outputs": [],
   "source": [
    "# Impute NaN of snow_depth to 0\n",
    "months=[3,4,5,6,7,8,9,10,11]\n",
    "df.loc[(df['month'].isin(months))&(df['snow_depth'].isnull()),'snow_depth']=0"
   ],
   "metadata": {
    "collapsed": false,
    "ExecuteTime": {
     "end_time": "2023-08-08T15:47:37.226602100Z",
     "start_time": "2023-08-08T15:47:37.116897Z"
    }
   }
  },
  {
   "cell_type": "markdown",
   "source": [
    "Impute the NaN in snow_depth before 2020/1/1 using linear method"
   ],
   "metadata": {
    "collapsed": false
   }
  },
  {
   "cell_type": "code",
   "execution_count": 185,
   "outputs": [],
   "source": [
    "# Define the start date\n",
    "start_date = pd.to_datetime('2020-01-01')\n",
    "\n",
    "# Using linear method to impute NaN value in snow_depth before the start date\n",
    "df.loc[df['date'] < start_date, 'snow_depth'] = df.loc[df['date'] < start_date, 'snow_depth'].interpolate(method='linear')\n"
   ],
   "metadata": {
    "collapsed": false,
    "ExecuteTime": {
     "end_time": "2023-08-08T15:47:37.226602100Z",
     "start_time": "2023-08-08T15:47:37.122757300Z"
    }
   }
  },
  {
   "cell_type": "markdown",
   "source": [
    "Impute the NaN value in snow_depth after 2020/1/1"
   ],
   "metadata": {
    "collapsed": false
   }
  },
  {
   "cell_type": "code",
   "execution_count": 186,
   "outputs": [],
   "source": [
    "from sklearn.svm import SVC\n",
    "from sklearn.model_selection import train_test_split\n",
    "\n",
    "X=df.drop(columns=['date','snow_depth','month','year'])\n",
    "Y=df['snow_depth'].apply(lambda x: 1 if x > 0 else 0)\n",
    "\n",
    "# Set the proportion of training set to 0.8.\n",
    "X_train,X_test,Y_train,Y_test=train_test_split(X,Y,test_size=0.1,shuffle=False)\n",
    "\n",
    "svm_classifier = SVC()\n",
    "svm_classifier.fit(X_train,Y_train)\n",
    "\n",
    "# Predict the values of NaN in snow_depth\n",
    "months_to_fill=[1, 2, 12]\n",
    "data_to_fill=df[df['snow_depth'].isnull()&df['month'].isin(months_to_fill)&df['year'].isin([2020])]\n",
    "X_to_fill=data_to_fill.drop(columns=['snow_depth','date','year','month'])\n",
    "predicted_values=svm_classifier.predict(X_to_fill)\n",
    "\n",
    "# Impute the NaN in snow_depth using the predicted values\n",
    "df.loc[df['snow_depth'].isnull()&df['date'].dt.month.isin(months_to_fill),'snow_depth']=predicted_values\n"
   ],
   "metadata": {
    "collapsed": false,
    "ExecuteTime": {
     "end_time": "2023-08-08T15:48:33.327669100Z",
     "start_time": "2023-08-08T15:48:33.197659Z"
    }
   }
  },
  {
   "cell_type": "markdown",
   "source": [
    "### Check the NaN values in each feature after imputing"
   ],
   "metadata": {
    "collapsed": false
   }
  },
  {
   "cell_type": "code",
   "execution_count": 187,
   "outputs": [],
   "source": [
    "# write the new dataset to the csv file\n",
    "df.to_csv('../dataset_for_analysis/data_weather_new.csv',index=0)"
   ],
   "metadata": {
    "collapsed": false,
    "ExecuteTime": {
     "end_time": "2023-08-08T15:48:47.308359900Z",
     "start_time": "2023-08-08T15:48:46.986909Z"
    }
   }
  },
  {
   "cell_type": "code",
   "execution_count": 189,
   "outputs": [
    {
     "name": "stdout",
     "output_type": "stream",
     "text": [
      "date                0\n",
      "cloud_cover         0\n",
      "sunshine            0\n",
      "global_radiation    0\n",
      "max_temp            0\n",
      "mean_temp           0\n",
      "min_temp            0\n",
      "precipitation       0\n",
      "pressure            0\n",
      "snow_depth          0\n",
      "year                0\n",
      "month               0\n",
      "dtype: int64\n"
     ]
    }
   ],
   "source": [
    "df_new=pd.read_csv('../dataset_for_analysis/data_weather_new.csv')\n",
    "null_values=df_new.isnull().sum()\n",
    "print(null_values)"
   ],
   "metadata": {
    "collapsed": false,
    "ExecuteTime": {
     "end_time": "2023-08-08T15:52:00.483196300Z",
     "start_time": "2023-08-08T15:52:00.463209300Z"
    }
   }
  },
  {
   "cell_type": "markdown",
   "source": [],
   "metadata": {
    "collapsed": false
   }
  }
 ],
 "metadata": {
  "kernelspec": {
   "display_name": "Python 3",
   "language": "python",
   "name": "python3"
  },
  "language_info": {
   "codemirror_mode": {
    "name": "ipython",
    "version": 2
   },
   "file_extension": ".py",
   "mimetype": "text/x-python",
   "name": "python",
   "nbconvert_exporter": "python",
   "pygments_lexer": "ipython2",
   "version": "2.7.6"
  }
 },
 "nbformat": 4,
 "nbformat_minor": 0
}
