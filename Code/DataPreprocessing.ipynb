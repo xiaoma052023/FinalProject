{
 "cells": [
  {
   "cell_type": "markdown",
   "source": [
    "# Data preprocessing"
   ],
   "metadata": {
    "collapsed": false
   }
  },
  {
   "cell_type": "markdown",
   "source": [
    "## Check the dataset"
   ],
   "metadata": {
    "collapsed": false
   }
  },
  {
   "cell_type": "markdown",
   "source": [
    "Import the packages"
   ],
   "metadata": {
    "collapsed": false
   }
  },
  {
   "cell_type": "code",
   "execution_count": 92,
   "outputs": [],
   "source": [
    "import pandas as pd\n",
    "import numpy as np"
   ],
   "metadata": {
    "collapsed": false,
    "ExecuteTime": {
     "end_time": "2023-09-03T16:14:55.761282100Z",
     "start_time": "2023-09-03T16:14:55.747611200Z"
    }
   }
  },
  {
   "cell_type": "code",
   "execution_count": 93,
   "outputs": [],
   "source": [
    "df=pd.read_csv('../OriginalDataset/data_weather.csv')"
   ],
   "metadata": {
    "collapsed": false,
    "ExecuteTime": {
     "end_time": "2023-09-03T16:14:56.183891Z",
     "start_time": "2023-09-03T16:14:56.148064500Z"
    }
   }
  },
  {
   "cell_type": "code",
   "execution_count": 94,
   "outputs": [
    {
     "data": {
      "text/plain": "       date  cloud_cover  sunshine  global_radiation  max_temp  mean_temp  \\\n0  19790101          2.0       7.0              52.0       2.3       -4.1   \n1  19790102          6.0       1.7              27.0       1.6       -2.6   \n2  19790103          5.0       0.0              13.0       1.3       -2.8   \n\n   min_temp  precipitation  pressure  snow_depth  \n0      -7.5            0.4  101900.0         9.0  \n1      -7.5            0.0  102530.0         8.0  \n2      -7.2            0.0  102050.0         4.0  ",
      "text/html": "<div>\n<style scoped>\n    .dataframe tbody tr th:only-of-type {\n        vertical-align: middle;\n    }\n\n    .dataframe tbody tr th {\n        vertical-align: top;\n    }\n\n    .dataframe thead th {\n        text-align: right;\n    }\n</style>\n<table border=\"1\" class=\"dataframe\">\n  <thead>\n    <tr style=\"text-align: right;\">\n      <th></th>\n      <th>date</th>\n      <th>cloud_cover</th>\n      <th>sunshine</th>\n      <th>global_radiation</th>\n      <th>max_temp</th>\n      <th>mean_temp</th>\n      <th>min_temp</th>\n      <th>precipitation</th>\n      <th>pressure</th>\n      <th>snow_depth</th>\n    </tr>\n  </thead>\n  <tbody>\n    <tr>\n      <th>0</th>\n      <td>19790101</td>\n      <td>2.0</td>\n      <td>7.0</td>\n      <td>52.0</td>\n      <td>2.3</td>\n      <td>-4.1</td>\n      <td>-7.5</td>\n      <td>0.4</td>\n      <td>101900.0</td>\n      <td>9.0</td>\n    </tr>\n    <tr>\n      <th>1</th>\n      <td>19790102</td>\n      <td>6.0</td>\n      <td>1.7</td>\n      <td>27.0</td>\n      <td>1.6</td>\n      <td>-2.6</td>\n      <td>-7.5</td>\n      <td>0.0</td>\n      <td>102530.0</td>\n      <td>8.0</td>\n    </tr>\n    <tr>\n      <th>2</th>\n      <td>19790103</td>\n      <td>5.0</td>\n      <td>0.0</td>\n      <td>13.0</td>\n      <td>1.3</td>\n      <td>-2.8</td>\n      <td>-7.2</td>\n      <td>0.0</td>\n      <td>102050.0</td>\n      <td>4.0</td>\n    </tr>\n  </tbody>\n</table>\n</div>"
     },
     "execution_count": 94,
     "metadata": {},
     "output_type": "execute_result"
    }
   ],
   "source": [
    "df.head(3)"
   ],
   "metadata": {
    "collapsed": false,
    "ExecuteTime": {
     "end_time": "2023-09-03T16:14:56.680938100Z",
     "start_time": "2023-09-03T16:14:56.650299900Z"
    }
   }
  },
  {
   "cell_type": "code",
   "execution_count": 95,
   "outputs": [
    {
     "data": {
      "text/plain": "           date  cloud_cover  sunshine  global_radiation  max_temp  mean_temp  \\\n15338  20201229          7.0       0.0              21.0       4.1        2.6   \n15339  20201230          6.0       0.4              22.0       5.6        2.7   \n15340  20201231          7.0       1.3              34.0       1.5       -0.8   \n\n       min_temp  precipitation  pressure  snow_depth  \n15338       1.1            0.0   98830.0         NaN  \n15339      -0.1            0.0  100200.0         NaN  \n15340      -3.1            0.0  100500.0         NaN  ",
      "text/html": "<div>\n<style scoped>\n    .dataframe tbody tr th:only-of-type {\n        vertical-align: middle;\n    }\n\n    .dataframe tbody tr th {\n        vertical-align: top;\n    }\n\n    .dataframe thead th {\n        text-align: right;\n    }\n</style>\n<table border=\"1\" class=\"dataframe\">\n  <thead>\n    <tr style=\"text-align: right;\">\n      <th></th>\n      <th>date</th>\n      <th>cloud_cover</th>\n      <th>sunshine</th>\n      <th>global_radiation</th>\n      <th>max_temp</th>\n      <th>mean_temp</th>\n      <th>min_temp</th>\n      <th>precipitation</th>\n      <th>pressure</th>\n      <th>snow_depth</th>\n    </tr>\n  </thead>\n  <tbody>\n    <tr>\n      <th>15338</th>\n      <td>20201229</td>\n      <td>7.0</td>\n      <td>0.0</td>\n      <td>21.0</td>\n      <td>4.1</td>\n      <td>2.6</td>\n      <td>1.1</td>\n      <td>0.0</td>\n      <td>98830.0</td>\n      <td>NaN</td>\n    </tr>\n    <tr>\n      <th>15339</th>\n      <td>20201230</td>\n      <td>6.0</td>\n      <td>0.4</td>\n      <td>22.0</td>\n      <td>5.6</td>\n      <td>2.7</td>\n      <td>-0.1</td>\n      <td>0.0</td>\n      <td>100200.0</td>\n      <td>NaN</td>\n    </tr>\n    <tr>\n      <th>15340</th>\n      <td>20201231</td>\n      <td>7.0</td>\n      <td>1.3</td>\n      <td>34.0</td>\n      <td>1.5</td>\n      <td>-0.8</td>\n      <td>-3.1</td>\n      <td>0.0</td>\n      <td>100500.0</td>\n      <td>NaN</td>\n    </tr>\n  </tbody>\n</table>\n</div>"
     },
     "execution_count": 95,
     "metadata": {},
     "output_type": "execute_result"
    }
   ],
   "source": [
    "df.tail(3)"
   ],
   "metadata": {
    "collapsed": false,
    "ExecuteTime": {
     "end_time": "2023-09-03T16:14:57.447541Z",
     "start_time": "2023-09-03T16:14:57.412073800Z"
    }
   }
  },
  {
   "cell_type": "code",
   "execution_count": 96,
   "outputs": [
    {
     "name": "stdout",
     "output_type": "stream",
     "text": [
      "date                  int64\n",
      "cloud_cover         float64\n",
      "sunshine            float64\n",
      "global_radiation    float64\n",
      "max_temp            float64\n",
      "mean_temp           float64\n",
      "min_temp            float64\n",
      "precipitation       float64\n",
      "pressure            float64\n",
      "snow_depth          float64\n",
      "dtype: object\n"
     ]
    }
   ],
   "source": [
    "print(df.dtypes)"
   ],
   "metadata": {
    "collapsed": false,
    "ExecuteTime": {
     "end_time": "2023-09-03T16:14:58.263818100Z",
     "start_time": "2023-09-03T16:14:58.253459400Z"
    }
   }
  },
  {
   "cell_type": "markdown",
   "source": [
    "Find the number of null values for each feature"
   ],
   "metadata": {
    "collapsed": false
   }
  },
  {
   "cell_type": "code",
   "execution_count": 97,
   "outputs": [
    {
     "name": "stdout",
     "output_type": "stream",
     "text": [
      "date                   0\n",
      "cloud_cover           19\n",
      "sunshine               0\n",
      "global_radiation      19\n",
      "max_temp               6\n",
      "mean_temp             36\n",
      "min_temp               2\n",
      "precipitation          6\n",
      "pressure               4\n",
      "snow_depth          1441\n",
      "dtype: int64\n"
     ]
    }
   ],
   "source": [
    "null_values=df.isnull().sum()\n",
    "print(null_values)"
   ],
   "metadata": {
    "collapsed": false,
    "ExecuteTime": {
     "end_time": "2023-09-03T16:15:00.655457300Z",
     "start_time": "2023-09-03T16:15:00.630855300Z"
    }
   }
  },
  {
   "cell_type": "markdown",
   "source": [
    "Convert the 'date' to date type"
   ],
   "metadata": {
    "collapsed": false
   }
  },
  {
   "cell_type": "code",
   "execution_count": 98,
   "outputs": [
    {
     "data": {
      "text/plain": "0   1979-01-01\n1   1979-01-02\n2   1979-01-03\nName: date, dtype: datetime64[ns]"
     },
     "execution_count": 98,
     "metadata": {},
     "output_type": "execute_result"
    }
   ],
   "source": [
    "df['date']=pd.to_datetime(df['date'], format='%Y%m%d')\n",
    "df['date'].head(3)"
   ],
   "metadata": {
    "collapsed": false,
    "ExecuteTime": {
     "end_time": "2023-09-03T16:15:02.355821400Z",
     "start_time": "2023-09-03T16:15:02.327025600Z"
    }
   }
  },
  {
   "cell_type": "markdown",
   "source": [
    "## Data cleaning (process the outliers)"
   ],
   "metadata": {
    "collapsed": false
   }
  },
  {
   "cell_type": "markdown",
   "source": [
    "Use 3-sigma principle to find the outliers"
   ],
   "metadata": {
    "collapsed": false
   }
  },
  {
   "cell_type": "code",
   "execution_count": 99,
   "outputs": [],
   "source": [
    "# Calculate the mean value and standard deviation of mean_temp and precipitation\n",
    "# mean_temp\n",
    "mean_temp_mean=df['mean_temp'].mean()\n",
    "mean_temp_std=df['mean_temp'].std()\n",
    "\n",
    "# precipitation\n",
    "precipitation_mean=df['precipitation'].mean()\n",
    "precipitation_std=df['precipitation'].std()\n",
    "\n",
    "# max_temp\n",
    "max_temp_mean=df['mean_temp'].mean()\n",
    "max_temp_std=df['mean_temp'].std()\n",
    "\n",
    "# min_temp\n",
    "min_temp_mean=df['mean_temp'].mean()\n",
    "min_temp_std=df['mean_temp'].std()"
   ],
   "metadata": {
    "collapsed": false,
    "ExecuteTime": {
     "end_time": "2023-09-03T16:15:05.426534100Z",
     "start_time": "2023-09-03T16:15:05.413612600Z"
    }
   }
  },
  {
   "cell_type": "markdown",
   "source": [
    "Use 3-sigma principle to find the normal boundary of mean_temp and precipitation in the dataset"
   ],
   "metadata": {
    "collapsed": false
   }
  },
  {
   "cell_type": "code",
   "execution_count": 100,
   "outputs": [],
   "source": [
    "# mean_temp\n",
    "mean_temp_lower_bound=mean_temp_mean-3*mean_temp_std\n",
    "mean_temp_upper_bound=mean_temp_mean+3*mean_temp_std\n",
    "\n",
    "# precipitation\n",
    "precipitation_lower_bound=precipitation_mean-3*precipitation_std\n",
    "precipitation_upper_bound=precipitation_mean+3*precipitation_std\n",
    "\n",
    "# max_temp\n",
    "max_temp_lower_bound=mean_temp_mean-3*mean_temp_std\n",
    "max_temp_upper_bound=mean_temp_mean+3*mean_temp_std\n",
    "\n",
    "# min_temp\n",
    "min_temp_lower_bound=mean_temp_mean-3*mean_temp_std\n",
    "min_temp_upper_bound=mean_temp_mean+3*mean_temp_std"
   ],
   "metadata": {
    "collapsed": false,
    "ExecuteTime": {
     "end_time": "2023-09-03T16:15:10.627114300Z",
     "start_time": "2023-09-03T16:15:10.614942300Z"
    }
   }
  },
  {
   "cell_type": "markdown",
   "source": [
    "Calculate the number of the outliers of mean_temp and precipitation"
   ],
   "metadata": {
    "collapsed": false
   }
  },
  {
   "cell_type": "code",
   "execution_count": 101,
   "outputs": [
    {
     "name": "stdout",
     "output_type": "stream",
     "text": [
      "The number of outliers in mean_temp： 5\n",
      "The number of outliers in precipitation： 337\n",
      "The number of outliers in max_temp： 289\n",
      "The number of outliers in min_temp： 52\n"
     ]
    }
   ],
   "source": [
    "# find the outliers\n",
    "mean_temp_outliers=df[(df['mean_temp']<mean_temp_lower_bound) | (df['mean_temp']>mean_temp_upper_bound)]\n",
    "precipitation_outliers=df[(df['precipitation']<precipitation_lower_bound) | (df['precipitation']>precipitation_upper_bound)]\n",
    "max_temp_outliers=df[(df['max_temp']<max_temp_lower_bound) | (df['max_temp']>max_temp_upper_bound)]\n",
    "min_temp_outliers=df[(df['min_temp']<min_temp_lower_bound) | (df['min_temp']>min_temp_upper_bound)]\n",
    "\n",
    "# calculate the number of outliers\n",
    "num_mean_temp_outliers=len(mean_temp_outliers)\n",
    "num_precipitation_outliers=len(precipitation_outliers)\n",
    "num_max_temp_outliers=len(max_temp_outliers)\n",
    "num_min_temp_outliers=len(min_temp_outliers)\n",
    "\n",
    "print(\"The number of outliers in mean_temp：\",num_mean_temp_outliers)\n",
    "print(\"The number of outliers in precipitation：\",num_precipitation_outliers)\n",
    "print(\"The number of outliers in max_temp：\",num_max_temp_outliers)\n",
    "print(\"The number of outliers in min_temp：\",num_min_temp_outliers)"
   ],
   "metadata": {
    "collapsed": false,
    "ExecuteTime": {
     "end_time": "2023-09-03T16:15:19.532717600Z",
     "start_time": "2023-09-03T16:15:19.522934300Z"
    }
   }
  },
  {
   "cell_type": "code",
   "execution_count": 102,
   "outputs": [
    {
     "data": {
      "text/plain": "            date  mean_temp\n2933  1987-01-12       -7.6\n2934  1987-01-13       -6.2\n8987  2003-08-10       29.0\n13330 2015-07-01       28.7\n14815 2019-07-25       28.8",
      "text/html": "<div>\n<style scoped>\n    .dataframe tbody tr th:only-of-type {\n        vertical-align: middle;\n    }\n\n    .dataframe tbody tr th {\n        vertical-align: top;\n    }\n\n    .dataframe thead th {\n        text-align: right;\n    }\n</style>\n<table border=\"1\" class=\"dataframe\">\n  <thead>\n    <tr style=\"text-align: right;\">\n      <th></th>\n      <th>date</th>\n      <th>mean_temp</th>\n    </tr>\n  </thead>\n  <tbody>\n    <tr>\n      <th>2933</th>\n      <td>1987-01-12</td>\n      <td>-7.6</td>\n    </tr>\n    <tr>\n      <th>2934</th>\n      <td>1987-01-13</td>\n      <td>-6.2</td>\n    </tr>\n    <tr>\n      <th>8987</th>\n      <td>2003-08-10</td>\n      <td>29.0</td>\n    </tr>\n    <tr>\n      <th>13330</th>\n      <td>2015-07-01</td>\n      <td>28.7</td>\n    </tr>\n    <tr>\n      <th>14815</th>\n      <td>2019-07-25</td>\n      <td>28.8</td>\n    </tr>\n  </tbody>\n</table>\n</div>"
     },
     "execution_count": 102,
     "metadata": {},
     "output_type": "execute_result"
    }
   ],
   "source": [
    "# Extract the dates of mean_temp outliers\n",
    "dates_of_mean_temp_outliers = mean_temp_outliers[['date','mean_temp']]\n",
    "dates_of_mean_temp_outliers"
   ],
   "metadata": {
    "collapsed": false,
    "ExecuteTime": {
     "end_time": "2023-09-03T16:15:25.465466200Z",
     "start_time": "2023-09-03T16:15:25.417916100Z"
    }
   }
  },
  {
   "cell_type": "markdown",
   "source": [
    "Delete the outliers in mean_temp and precipitation"
   ],
   "metadata": {
    "collapsed": false
   }
  },
  {
   "cell_type": "code",
   "execution_count": 103,
   "outputs": [],
   "source": [
    "df.loc[(df['mean_temp']<mean_temp_lower_bound) | (df['mean_temp']>mean_temp_upper_bound),'mean_temp']=np.nan\n",
    "df.loc[(df['max_temp']<max_temp_lower_bound) | (df['max_temp']>max_temp_upper_bound),'max_temp']=np.nan\n",
    "df.loc[(df['min_temp']<min_temp_lower_bound) | (df['min_temp']>min_temp_upper_bound),'min_temp']=np.nan\n",
    "df.loc[(df['precipitation']< precipitation_lower_bound) | (df['precipitation']>precipitation_upper_bound),'precipitation']=np.nan"
   ],
   "metadata": {
    "collapsed": false,
    "ExecuteTime": {
     "end_time": "2023-09-03T16:15:34.395355600Z",
     "start_time": "2023-09-03T16:15:34.290543700Z"
    }
   }
  },
  {
   "cell_type": "markdown",
   "source": [
    "## Data imputation"
   ],
   "metadata": {
    "collapsed": false
   }
  },
  {
   "cell_type": "markdown",
   "source": [
    "### Impute cloud_cover"
   ],
   "metadata": {
    "collapsed": false
   }
  },
  {
   "cell_type": "code",
   "execution_count": 104,
   "outputs": [
    {
     "name": "stdout",
     "output_type": "stream",
     "text": [
      "0\n"
     ]
    }
   ],
   "source": [
    "# Impute NaN in cloud_cover with linear method\n",
    "df['cloud_cover']=df['cloud_cover'].interpolate(method='linear',limit_direction='both')\n",
    "df['cloud_cover']=df['cloud_cover'].round(1)\n",
    "\n",
    "print(df['cloud_cover'].isnull().sum())"
   ],
   "metadata": {
    "collapsed": false,
    "ExecuteTime": {
     "end_time": "2023-09-03T16:15:41.320270700Z",
     "start_time": "2023-09-03T16:15:41.305527400Z"
    }
   }
  },
  {
   "cell_type": "markdown",
   "source": [
    "### Impute global_radiation"
   ],
   "metadata": {
    "collapsed": false
   }
  },
  {
   "cell_type": "code",
   "execution_count": 105,
   "outputs": [
    {
     "name": "stdout",
     "output_type": "stream",
     "text": [
      "0\n"
     ]
    }
   ],
   "source": [
    "# Impute NaN in global_radiation with linear method\n",
    "df['global_radiation']=df['global_radiation'].interpolate(method='linear', limit_direction='both')\n",
    "df['global_radiation']=df['global_radiation'].round(1)\n",
    "\n",
    "print(df['global_radiation'].isnull().sum())\n"
   ],
   "metadata": {
    "collapsed": false,
    "ExecuteTime": {
     "end_time": "2023-09-03T16:15:41.985728600Z",
     "start_time": "2023-09-03T16:15:41.946206Z"
    }
   }
  },
  {
   "cell_type": "markdown",
   "source": [
    "### Impute precipitation"
   ],
   "metadata": {
    "collapsed": false
   }
  },
  {
   "cell_type": "code",
   "execution_count": 106,
   "outputs": [
    {
     "name": "stdout",
     "output_type": "stream",
     "text": [
      "0\n"
     ]
    }
   ],
   "source": [
    "# Impute NaN in precipitation with linear method\n",
    "df['precipitation']=df['precipitation'].interpolate(method='linear', limit_direction='both')\n",
    "df['precipitation']=df['precipitation'].round(1)\n",
    "\n",
    "print(df['precipitation'].isnull().sum())"
   ],
   "metadata": {
    "collapsed": false,
    "ExecuteTime": {
     "end_time": "2023-09-03T16:15:42.563962500Z",
     "start_time": "2023-09-03T16:15:42.506506Z"
    }
   }
  },
  {
   "cell_type": "markdown",
   "source": [
    "### Impute pressure"
   ],
   "metadata": {
    "collapsed": false
   }
  },
  {
   "cell_type": "code",
   "execution_count": 107,
   "outputs": [
    {
     "name": "stdout",
     "output_type": "stream",
     "text": [
      "0\n"
     ]
    }
   ],
   "source": [
    "# Impute NaN in pressure with linear method\n",
    "df['pressure']=df['pressure'].interpolate(method='linear', limit_direction='both')\n",
    "df['pressure']=df['pressure'].round(1)\n",
    "\n",
    "print(df['pressure'].isnull().sum())"
   ],
   "metadata": {
    "collapsed": false,
    "ExecuteTime": {
     "end_time": "2023-09-03T16:15:43.095998Z",
     "start_time": "2023-09-03T16:15:43.051684500Z"
    }
   }
  },
  {
   "cell_type": "markdown",
   "source": [
    "### Impute temperature"
   ],
   "metadata": {
    "collapsed": false
   }
  },
  {
   "cell_type": "markdown",
   "source": [
    "Impute min_temp"
   ],
   "metadata": {
    "collapsed": false
   }
  },
  {
   "cell_type": "code",
   "execution_count": 108,
   "outputs": [
    {
     "name": "stdout",
     "output_type": "stream",
     "text": [
      "0\n"
     ]
    }
   ],
   "source": [
    "# Impute NaN in global_radiation with linear method\n",
    "df['min_temp']=df['min_temp'].interpolate(method='linear', limit_direction='both')\n",
    "df['min_temp']=df['min_temp'].round(1)\n",
    "\n",
    "print(df['min_temp'].isnull().sum())"
   ],
   "metadata": {
    "collapsed": false,
    "ExecuteTime": {
     "end_time": "2023-09-03T16:15:43.881348200Z",
     "start_time": "2023-09-03T16:15:43.870668500Z"
    }
   }
  },
  {
   "cell_type": "markdown",
   "source": [
    "Impute max_temp"
   ],
   "metadata": {
    "collapsed": false
   }
  },
  {
   "cell_type": "code",
   "execution_count": 109,
   "outputs": [
    {
     "name": "stdout",
     "output_type": "stream",
     "text": [
      "0\n"
     ]
    }
   ],
   "source": [
    "# Impute NaN in global_radiation with linear method\n",
    "df['max_temp']=df['max_temp'].interpolate(method='linear', limit_direction='both')\n",
    "df['max_temp']=df['max_temp'].round(1)\n",
    "\n",
    "print(df['max_temp'].isnull().sum())"
   ],
   "metadata": {
    "collapsed": false,
    "ExecuteTime": {
     "end_time": "2023-09-03T16:15:44.447674800Z",
     "start_time": "2023-09-03T16:15:44.432937700Z"
    }
   }
  },
  {
   "cell_type": "markdown",
   "source": [
    "Impute mean_temp"
   ],
   "metadata": {
    "collapsed": false
   }
  },
  {
   "cell_type": "code",
   "execution_count": 110,
   "outputs": [
    {
     "name": "stdout",
     "output_type": "stream",
     "text": [
      "0\n"
     ]
    }
   ],
   "source": [
    "# Find the rows whose value of mean_temp is NaN\n",
    "null_rows=df[df['mean_temp'].isnull()]\n",
    "\n",
    "# Calculate the mean value of min_temp and max_temp\n",
    "for index, row in null_rows.iterrows():\n",
    "    min_temp=row['min_temp']\n",
    "    max_temp=row['max_temp']\n",
    "    mean_temp=np.mean([min_temp, max_temp])\n",
    "    df.at[index,'mean_temp']=mean_temp\n",
    "\n",
    "df['mean_temp']=df['mean_temp'].round(1)\n",
    "print(df['mean_temp'].isnull().sum())"
   ],
   "metadata": {
    "collapsed": false,
    "ExecuteTime": {
     "end_time": "2023-09-03T16:15:45.376147900Z",
     "start_time": "2023-09-03T16:15:45.327725900Z"
    }
   }
  },
  {
   "cell_type": "markdown",
   "source": [
    "### Impute snow_depth"
   ],
   "metadata": {
    "collapsed": false
   }
  },
  {
   "cell_type": "markdown",
   "source": [
    "Calculate the number of days whose snow_depth is not zero for each month"
   ],
   "metadata": {
    "collapsed": false
   }
  },
  {
   "cell_type": "code",
   "execution_count": 111,
   "outputs": [
    {
     "name": "stdout",
     "output_type": "stream",
     "text": [
      "month\n",
      "1     56\n",
      "2     48\n",
      "3      6\n",
      "4      2\n",
      "5      0\n",
      "6      0\n",
      "7      0\n",
      "8      0\n",
      "9      0\n",
      "10     0\n",
      "11     0\n",
      "12    28\n",
      "Name: snow_depth, dtype: int64\n"
     ]
    }
   ],
   "source": [
    "df['year']=df['date'].dt.year\n",
    "df['month']=df['date'].dt.month\n",
    "\n",
    "snow_days_notzero=df[df['snow_depth'] != 0].groupby(['month'])['snow_depth'].count()\n",
    "print(snow_days_notzero)"
   ],
   "metadata": {
    "collapsed": false,
    "ExecuteTime": {
     "end_time": "2023-09-03T16:15:46.702644400Z",
     "start_time": "2023-09-03T16:15:46.652611Z"
    }
   }
  },
  {
   "cell_type": "markdown",
   "source": [
    "We can learn that from May to November, there are no days that have snow_depth and there are only 2 days with snow_depth in April and 6 days in March with forty years. So impute NaN of snow_depth to 0 in these months as follows."
   ],
   "metadata": {
    "collapsed": false
   }
  },
  {
   "cell_type": "code",
   "execution_count": 112,
   "outputs": [],
   "source": [
    "# Impute NaN of snow_depth to 0\n",
    "months=[3,4,5,6,7,8,9,10,11]\n",
    "df.loc[(df['month'].isin(months))&(df['snow_depth'].isnull()),'snow_depth']=0"
   ],
   "metadata": {
    "collapsed": false,
    "ExecuteTime": {
     "end_time": "2023-09-03T16:15:47.961433700Z",
     "start_time": "2023-09-03T16:15:47.930136400Z"
    }
   }
  },
  {
   "cell_type": "markdown",
   "source": [
    "Impute the NaN in snow_depth before 2020/1/1 using linear method"
   ],
   "metadata": {
    "collapsed": false
   }
  },
  {
   "cell_type": "code",
   "execution_count": 113,
   "outputs": [],
   "source": [
    "# Define the start date\n",
    "start_date = pd.to_datetime('2020-01-01')\n",
    "\n",
    "# Using linear method to impute NaN value in snow_depth before the start date\n",
    "df.loc[df['date'] < start_date, 'snow_depth'] = df.loc[df['date'] < start_date, 'snow_depth'].interpolate(method='linear')\n"
   ],
   "metadata": {
    "collapsed": false,
    "ExecuteTime": {
     "end_time": "2023-09-03T16:15:49.076538900Z",
     "start_time": "2023-09-03T16:15:49.049487400Z"
    }
   }
  },
  {
   "cell_type": "markdown",
   "source": [
    "Impute the NaN value in snow_depth after 2020/1/1 (Using support vector machine model to predict the value of snow_depth)"
   ],
   "metadata": {
    "collapsed": false
   }
  },
  {
   "cell_type": "code",
   "execution_count": 114,
   "outputs": [],
   "source": [
    "from sklearn.svm import SVC\n",
    "from sklearn.model_selection import train_test_split\n",
    "\n",
    "X=df.drop(columns=['date','snow_depth','month','year'])\n",
    "Y=df['snow_depth'].apply(lambda x: 1 if x > 0 else 0)\n",
    "\n",
    "# Set the proportion of training set to 0.8.\n",
    "X_train,X_test,Y_train,Y_test=train_test_split(X,Y,test_size=0.1,shuffle=False)\n",
    "\n",
    "svm_classifier = SVC()\n",
    "svm_classifier.fit(X_train,Y_train)\n",
    "\n",
    "# Predict the values of NaN in snow_depth\n",
    "months_to_fill=[1, 2, 12]\n",
    "data_to_fill=df[df['snow_depth'].isnull()&df['month'].isin(months_to_fill)&df['year'].isin([2020])]\n",
    "X_to_fill=data_to_fill.drop(columns=['snow_depth','date','year','month'])\n",
    "predicted_values=svm_classifier.predict(X_to_fill)\n",
    "\n",
    "# Impute the NaN in snow_depth using the predicted values\n",
    "df.loc[df['snow_depth'].isnull()&df['date'].dt.month.isin(months_to_fill),'snow_depth']=predicted_values\n"
   ],
   "metadata": {
    "collapsed": false,
    "ExecuteTime": {
     "end_time": "2023-09-03T16:15:50.134085700Z",
     "start_time": "2023-09-03T16:15:49.976057300Z"
    }
   }
  },
  {
   "cell_type": "markdown",
   "source": [
    "### Check the NaN values in each feature after imputing"
   ],
   "metadata": {
    "collapsed": false
   }
  },
  {
   "cell_type": "code",
   "execution_count": 115,
   "outputs": [],
   "source": [
    "# write the new dataset to the csv file\n",
    "df.to_csv('../dataset_for_analysis/data_weather_new1.csv',index=0)"
   ],
   "metadata": {
    "collapsed": false,
    "ExecuteTime": {
     "end_time": "2023-09-03T16:15:50.789136Z",
     "start_time": "2023-09-03T16:15:50.694958600Z"
    }
   }
  },
  {
   "cell_type": "code",
   "execution_count": 116,
   "outputs": [
    {
     "name": "stdout",
     "output_type": "stream",
     "text": [
      "date                0\n",
      "cloud_cover         0\n",
      "sunshine            0\n",
      "global_radiation    0\n",
      "max_temp            0\n",
      "mean_temp           0\n",
      "min_temp            0\n",
      "precipitation       0\n",
      "pressure            0\n",
      "snow_depth          0\n",
      "year                0\n",
      "month               0\n",
      "dtype: int64\n"
     ]
    }
   ],
   "source": [
    "df_new=pd.read_csv('../dataset_for_analysis/data_weather_new1.csv')\n",
    "null_values=df_new.isnull().sum()\n",
    "print(null_values)"
   ],
   "metadata": {
    "collapsed": false,
    "ExecuteTime": {
     "end_time": "2023-09-03T16:15:53.189783600Z",
     "start_time": "2023-09-03T16:15:53.162879700Z"
    }
   }
  }
 ],
 "metadata": {
  "kernelspec": {
   "display_name": "Python 3",
   "language": "python",
   "name": "python3"
  },
  "language_info": {
   "codemirror_mode": {
    "name": "ipython",
    "version": 2
   },
   "file_extension": ".py",
   "mimetype": "text/x-python",
   "name": "python",
   "nbconvert_exporter": "python",
   "pygments_lexer": "ipython2",
   "version": "2.7.6"
  }
 },
 "nbformat": 4,
 "nbformat_minor": 0
}
