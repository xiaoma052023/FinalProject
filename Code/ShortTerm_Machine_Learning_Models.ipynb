{
 "cells": [
  {
   "cell_type": "markdown",
   "source": [
    "# Short Term Weather Forecasting with Single Shot Method"
   ],
   "metadata": {
    "collapsed": false
   }
  },
  {
   "cell_type": "markdown",
   "source": [
    "Import libraries"
   ],
   "metadata": {
    "collapsed": false
   }
  },
  {
   "cell_type": "code",
   "execution_count": 13,
   "outputs": [],
   "source": [
    "import pandas as pd\n",
    "import numpy as np\n",
    "import matplotlib.pyplot as plt"
   ],
   "metadata": {
    "collapsed": false,
    "ExecuteTime": {
     "end_time": "2023-08-11T15:34:44.484007800Z",
     "start_time": "2023-08-11T15:34:44.481003300Z"
    }
   }
  },
  {
   "cell_type": "markdown",
   "source": [
    "Load the data"
   ],
   "metadata": {
    "collapsed": false
   }
  },
  {
   "cell_type": "code",
   "execution_count": 23,
   "outputs": [],
   "source": [
    "df=pd.read_csv('../dataset_for_analysis/data_weather_new.csv',parse_dates=['date'])"
   ],
   "metadata": {
    "collapsed": false,
    "ExecuteTime": {
     "end_time": "2023-08-11T15:41:37.075493700Z",
     "start_time": "2023-08-11T15:41:37.046991400Z"
    }
   }
  },
  {
   "cell_type": "markdown",
   "source": [
    "## Normalization and modeling"
   ],
   "metadata": {
    "collapsed": false
   }
  },
  {
   "cell_type": "markdown",
   "source": [
    "Define the features and the targeted variables to be predicted"
   ],
   "metadata": {
    "collapsed": false
   }
  },
  {
   "cell_type": "code",
   "execution_count": 24,
   "outputs": [],
   "source": [
    "X=df[['cloud_cover','sunshine','global_radiation','pressure']]\n",
    "Y=df[['mean_temp','precipitation','min_temp','max_temp']]"
   ],
   "metadata": {
    "collapsed": false,
    "ExecuteTime": {
     "end_time": "2023-08-11T15:41:39.588408100Z",
     "start_time": "2023-08-11T15:41:39.578473900Z"
    }
   }
  },
  {
   "cell_type": "markdown",
   "source": [
    "Initiate the Standard Scaler"
   ],
   "metadata": {
    "collapsed": false
   }
  },
  {
   "cell_type": "code",
   "execution_count": 25,
   "outputs": [],
   "source": [
    "from sklearn.preprocessing import StandardScaler\n",
    "\n",
    "scaler=StandardScaler()"
   ],
   "metadata": {
    "collapsed": false,
    "ExecuteTime": {
     "end_time": "2023-08-11T15:41:40.405571800Z",
     "start_time": "2023-08-11T15:41:40.403433600Z"
    }
   }
  },
  {
   "cell_type": "markdown",
   "source": [
    "## Support Vector Machine model"
   ],
   "metadata": {
    "collapsed": false
   }
  },
  {
   "cell_type": "markdown",
   "source": [
    "### Single output"
   ],
   "metadata": {
    "collapsed": false
   }
  },
  {
   "cell_type": "markdown",
   "source": [
    "Define the models for each predicted targeted variable"
   ],
   "metadata": {
    "collapsed": false
   }
  },
  {
   "cell_type": "code",
   "execution_count": 26,
   "outputs": [],
   "source": [
    "from sklearn.svm import SVR\n",
    "\n",
    "# Create linear regression models\n",
    "models={\n",
    "    'mean_temp':SVR(),\n",
    "    'precipitation':SVR(),\n",
    "    'min_temp':SVR(),\n",
    "    'max_temp':SVR()\n",
    "}"
   ],
   "metadata": {
    "collapsed": false,
    "ExecuteTime": {
     "end_time": "2023-08-11T15:41:42.393281700Z",
     "start_time": "2023-08-11T15:41:42.384136200Z"
    }
   }
  },
  {
   "cell_type": "markdown",
   "source": [
    "Use cross validation method to train and evaluate the models"
   ],
   "metadata": {
    "collapsed": false
   }
  },
  {
   "cell_type": "code",
   "execution_count": 28,
   "outputs": [
    {
     "name": "stdout",
     "output_type": "stream",
     "text": [
      "MSE of mean_temp prediction:  15.05\n",
      "MSE of precipitation prediction:  12.82\n",
      "MSE of min_temp prediction:  15.99\n",
      "MSE of max_temp prediction:  17.57\n"
     ]
    }
   ],
   "source": [
    "from sklearn.model_selection import TimeSeriesSplit\n",
    "from sklearn.metrics import mean_squared_error\n",
    "\n",
    "# Initiate the Time Series Split\n",
    "tscv=TimeSeriesSplit(n_splits=5)\n",
    "\n",
    "# Train the models\n",
    "for target_variable,model in models.items():\n",
    "\n",
    "    # Store the mse value\n",
    "    mse_scores=[]\n",
    "\n",
    "    # Split the training set and test set\n",
    "    for train_index,test_index in tscv.split(df):\n",
    "        X_train=X.iloc[train_index]\n",
    "        y_train=Y[target_variable].iloc[train_index]\n",
    "\n",
    "        X_test=X.iloc[test_index]\n",
    "        y_test=Y[target_variable].iloc[test_index]\n",
    "\n",
    "        # Normalize the data\n",
    "        X_train=scaler.fit_transform(X_train)\n",
    "        X_test=scaler.fit_transform(X_test)\n",
    "\n",
    "        # Train the model\n",
    "        model.fit(X_train,y_train)\n",
    "\n",
    "        # Make the predictions\n",
    "        y_pred=model.predict(X_test)\n",
    "\n",
    "        # Calculate the mean squared error\n",
    "        mse=mean_squared_error(y_test,y_pred)\n",
    "        mse_scores.append(mse)\n",
    "\n",
    "    # Print the result\n",
    "    print(f'MSE of {target_variable} prediction: {np.mean(mse_scores): .2f}')"
   ],
   "metadata": {
    "collapsed": false,
    "ExecuteTime": {
     "end_time": "2023-08-11T15:43:17.927663500Z",
     "start_time": "2023-08-11T15:42:08.556767900Z"
    }
   }
  },
  {
   "cell_type": "markdown",
   "source": [
    "Predict the data in 2020"
   ],
   "metadata": {
    "collapsed": false
   }
  },
  {
   "cell_type": "code",
   "execution_count": 22,
   "outputs": [
    {
     "name": "stdout",
     "output_type": "stream",
     "text": [
      "MSE of mean_temp:  18.73\n",
      "MSE of mean_temp:  28.37\n",
      "MSE of mean_temp:  19.79\n",
      "MSE of mean_temp:  23.48\n"
     ]
    }
   ],
   "source": [
    "# Predict the mean_temp in 2020\n",
    "data_2020=df[df['date'].dt.year == 2020]\n",
    "X_2020=data_2020[['cloud_cover','sunshine','global_radiation','pressure']].values\n",
    "scaled_X_2020=scaler.fit_transform(X_2020)\n",
    "y_pred_2020_meantemp=models['mean_temp'].predict(scaled_X_2020)\n",
    "y_pred_2020_precipitation=models['precipitation'].predict(scaled_X_2020)\n",
    "y_pred_2020_mintemp=models['min_temp'].predict(scaled_X_2020)\n",
    "y_pred_2020_maxtemp=models['max_temp'].predict(scaled_X_2020)\n",
    "\n",
    "print(f\"MSE of mean_temp: {mean_squared_error(data_2020['mean_temp'],y_pred_2020_meantemp): .2f}\")\n",
    "print(f\"MSE of precipitation: {mean_squared_error(data_2020['precipitation'],y_pred_2020_precipitation): .2f}\")\n",
    "print(f\"MSE of min_temp: {mean_squared_error(data_2020['min_temp'],y_pred_2020_mintemp): .2f}\")\n",
    "print(f\"MSE of max_temp: {mean_squared_error(data_2020['max_temp'],y_pred_2020_maxtemp): .2f}\")\n"
   ],
   "metadata": {
    "collapsed": false,
    "ExecuteTime": {
     "end_time": "2023-08-11T15:40:25.142754700Z",
     "start_time": "2023-08-11T15:40:24.253807600Z"
    }
   }
  },
  {
   "cell_type": "markdown",
   "source": [
    "Visualize the result"
   ],
   "metadata": {
    "collapsed": false
   }
  },
  {
   "cell_type": "code",
   "execution_count": null,
   "outputs": [],
   "source": [
    "\n",
    "# Create the figure containing two subplots\n",
    "fig,(ax1,ax2)=plt.subplots(2,1,figsize=(18,8))\n",
    "\n",
    "# The plot for mean_temp\n",
    "ax1.plot(data_2020['date'],data_2020['mean_temp'],label='Actual')\n",
    "ax1.plot(data_2020['date'],y_pred_2020_meantemp, label='Predicted')\n",
    "ax1.set_xlabel('Date')\n",
    "ax1.set_ylabel('Mean Temperature (°C)')\n",
    "ax1.set_title('Mean_temp prediction')\n",
    "ax1.legend(loc='upper left')\n",
    "\n",
    "# The plot for precipitation\n",
    "ax2.plot(data_2020['date'], data_2020['precipitation'],label='Actual')\n",
    "ax2.plot(data_2020['date'], y_pred_2020_precipitation,label='Predicted')\n",
    "ax2.set_xlabel('Date')\n",
    "ax2.set_ylabel('Precipitation (mm)')\n",
    "ax2.set_title('Precipitation prediction')\n",
    "ax2.legend(loc='upper left')\n",
    "\n",
    "ax1.xaxis.set_major_locator(plt.MaxNLocator(14))\n",
    "ax2.xaxis.set_major_locator(plt.MaxNLocator(14))\n",
    "\n",
    "# Adjust the layout of the subplots\n",
    "plt.tight_layout()\n",
    "plt.show()"
   ],
   "metadata": {
    "collapsed": false
   }
  },
  {
   "cell_type": "markdown",
   "source": [
    "## Multiple output"
   ],
   "metadata": {
    "collapsed": false
   }
  },
  {
   "cell_type": "markdown",
   "source": [
    "Train and test the model"
   ],
   "metadata": {
    "collapsed": false
   }
  },
  {
   "cell_type": "code",
   "execution_count": 29,
   "outputs": [
    {
     "name": "stdout",
     "output_type": "stream",
     "text": [
      "MSE of prediction:  15.355\n"
     ]
    }
   ],
   "source": [
    "from sklearn.multioutput import MultiOutputRegressor\n",
    "\n",
    "svr=SVR()\n",
    "model=MultiOutputRegressor(svr)\n",
    "\n",
    "mse_scores1=[]\n",
    "\n",
    "for train_index,test_index in tscv.split(df):\n",
    "    X_train=X.iloc[train_index]\n",
    "    y_train=Y.iloc[train_index]\n",
    "\n",
    "    X_test=X.iloc[test_index]\n",
    "    y_test=Y.iloc[test_index]\n",
    "\n",
    "    # Normalize the data\n",
    "    X_train=scaler.fit_transform(X_train)\n",
    "    X_test=scaler.fit_transform(X_test)\n",
    "\n",
    "    # Train the model\n",
    "    model.fit(X_train,y_train)\n",
    "\n",
    "    # Make the predictions\n",
    "    y_pred=model.predict(X_test)\n",
    "\n",
    "    # Calculate the mean squared error\n",
    "    mse=mean_squared_error(y_test,y_pred)\n",
    "    mse_scores1.append(mse)\n",
    "\n",
    "# Print the result\n",
    "print(f'MSE of prediction: {np.mean(mse_scores1): .2f}')"
   ],
   "metadata": {
    "collapsed": false
   }
  }
 ],
 "metadata": {
  "kernelspec": {
   "display_name": "Python 3",
   "language": "python",
   "name": "python3"
  },
  "language_info": {
   "codemirror_mode": {
    "name": "ipython",
    "version": 2
   },
   "file_extension": ".py",
   "mimetype": "text/x-python",
   "name": "python",
   "nbconvert_exporter": "python",
   "pygments_lexer": "ipython2",
   "version": "2.7.6"
  }
 },
 "nbformat": 4,
 "nbformat_minor": 0
}
