{
 "cells": [
  {
   "cell_type": "markdown",
   "source": [
    "# Data preprocessing"
   ],
   "metadata": {
    "collapsed": false
   }
  },
  {
   "cell_type": "markdown",
   "source": [
    "## Check the dataset"
   ],
   "metadata": {
    "collapsed": false
   }
  },
  {
   "cell_type": "markdown",
   "source": [
    "Import the packages"
   ],
   "metadata": {
    "collapsed": false
   }
  },
  {
   "cell_type": "code",
   "execution_count": 49,
   "outputs": [],
   "source": [
    "import pandas as pd\n",
    "import numpy as np"
   ],
   "metadata": {
    "collapsed": false,
    "ExecuteTime": {
     "end_time": "2023-08-06T17:45:26.898018Z",
     "start_time": "2023-08-06T17:45:26.866020200Z"
    }
   }
  },
  {
   "cell_type": "code",
   "execution_count": 50,
   "outputs": [],
   "source": [
    "df=pd.read_csv('../OriginalDataset/data_weather.csv')"
   ],
   "metadata": {
    "collapsed": false,
    "ExecuteTime": {
     "end_time": "2023-08-06T17:45:27.445244400Z",
     "start_time": "2023-08-06T17:45:27.380445400Z"
    }
   }
  },
  {
   "cell_type": "code",
   "execution_count": 51,
   "outputs": [
    {
     "data": {
      "text/plain": "       date  cloud_cover  sunshine  global_radiation  max_temp  mean_temp  \\\n0  19790101          2.0       7.0              52.0       2.3       -4.1   \n1  19790102          6.0       1.7              27.0       1.6       -2.6   \n2  19790103          5.0       0.0              13.0       1.3       -2.8   \n\n   min_temp  precipitation  pressure  snow_depth  \n0      -7.5            0.4  101900.0         9.0  \n1      -7.5            0.0  102530.0         8.0  \n2      -7.2            0.0  102050.0         4.0  ",
      "text/html": "<div>\n<style scoped>\n    .dataframe tbody tr th:only-of-type {\n        vertical-align: middle;\n    }\n\n    .dataframe tbody tr th {\n        vertical-align: top;\n    }\n\n    .dataframe thead th {\n        text-align: right;\n    }\n</style>\n<table border=\"1\" class=\"dataframe\">\n  <thead>\n    <tr style=\"text-align: right;\">\n      <th></th>\n      <th>date</th>\n      <th>cloud_cover</th>\n      <th>sunshine</th>\n      <th>global_radiation</th>\n      <th>max_temp</th>\n      <th>mean_temp</th>\n      <th>min_temp</th>\n      <th>precipitation</th>\n      <th>pressure</th>\n      <th>snow_depth</th>\n    </tr>\n  </thead>\n  <tbody>\n    <tr>\n      <th>0</th>\n      <td>19790101</td>\n      <td>2.0</td>\n      <td>7.0</td>\n      <td>52.0</td>\n      <td>2.3</td>\n      <td>-4.1</td>\n      <td>-7.5</td>\n      <td>0.4</td>\n      <td>101900.0</td>\n      <td>9.0</td>\n    </tr>\n    <tr>\n      <th>1</th>\n      <td>19790102</td>\n      <td>6.0</td>\n      <td>1.7</td>\n      <td>27.0</td>\n      <td>1.6</td>\n      <td>-2.6</td>\n      <td>-7.5</td>\n      <td>0.0</td>\n      <td>102530.0</td>\n      <td>8.0</td>\n    </tr>\n    <tr>\n      <th>2</th>\n      <td>19790103</td>\n      <td>5.0</td>\n      <td>0.0</td>\n      <td>13.0</td>\n      <td>1.3</td>\n      <td>-2.8</td>\n      <td>-7.2</td>\n      <td>0.0</td>\n      <td>102050.0</td>\n      <td>4.0</td>\n    </tr>\n  </tbody>\n</table>\n</div>"
     },
     "execution_count": 51,
     "metadata": {},
     "output_type": "execute_result"
    }
   ],
   "source": [
    "df.head(3)"
   ],
   "metadata": {
    "collapsed": false,
    "ExecuteTime": {
     "end_time": "2023-08-06T17:45:27.893102300Z",
     "start_time": "2023-08-06T17:45:27.854178100Z"
    }
   }
  },
  {
   "cell_type": "code",
   "execution_count": 52,
   "outputs": [
    {
     "name": "stdout",
     "output_type": "stream",
     "text": [
      "date                  int64\n",
      "cloud_cover         float64\n",
      "sunshine            float64\n",
      "global_radiation    float64\n",
      "max_temp            float64\n",
      "mean_temp           float64\n",
      "min_temp            float64\n",
      "precipitation       float64\n",
      "pressure            float64\n",
      "snow_depth          float64\n",
      "dtype: object\n"
     ]
    }
   ],
   "source": [
    "print(df.dtypes)"
   ],
   "metadata": {
    "collapsed": false,
    "ExecuteTime": {
     "end_time": "2023-08-06T17:45:28.880105700Z",
     "start_time": "2023-08-06T17:45:28.868703900Z"
    }
   }
  },
  {
   "cell_type": "markdown",
   "source": [
    "Find the number of null values for each feature"
   ],
   "metadata": {
    "collapsed": false
   }
  },
  {
   "cell_type": "code",
   "execution_count": 53,
   "outputs": [
    {
     "name": "stdout",
     "output_type": "stream",
     "text": [
      "date                   0\n",
      "cloud_cover           19\n",
      "sunshine               0\n",
      "global_radiation      19\n",
      "max_temp               6\n",
      "mean_temp             36\n",
      "min_temp               2\n",
      "precipitation          6\n",
      "pressure               4\n",
      "snow_depth          1441\n",
      "dtype: int64\n"
     ]
    }
   ],
   "source": [
    "null_values=df.isnull().sum()\n",
    "print(null_values)"
   ],
   "metadata": {
    "collapsed": false,
    "ExecuteTime": {
     "end_time": "2023-08-06T17:45:32.354825100Z",
     "start_time": "2023-08-06T17:45:32.345082700Z"
    }
   }
  },
  {
   "cell_type": "markdown",
   "source": [
    "Convert the 'date' to date type"
   ],
   "metadata": {
    "collapsed": false
   }
  },
  {
   "cell_type": "code",
   "execution_count": 54,
   "outputs": [
    {
     "data": {
      "text/plain": "0   1979-01-01\n1   1979-01-02\n2   1979-01-03\nName: date, dtype: datetime64[ns]"
     },
     "execution_count": 54,
     "metadata": {},
     "output_type": "execute_result"
    }
   ],
   "source": [
    "df['date'] = pd.to_datetime(df['date'], format='%Y%m%d')\n",
    "df['date'].head(3)"
   ],
   "metadata": {
    "collapsed": false,
    "ExecuteTime": {
     "end_time": "2023-08-06T17:45:35.913425200Z",
     "start_time": "2023-08-06T17:45:35.881914Z"
    }
   }
  },
  {
   "cell_type": "markdown",
   "source": [
    "## Data imputation"
   ],
   "metadata": {
    "collapsed": false
   }
  },
  {
   "cell_type": "markdown",
   "source": [
    "### Impute cloud_cover"
   ],
   "metadata": {
    "collapsed": false
   }
  },
  {
   "cell_type": "code",
   "execution_count": 60,
   "outputs": [
    {
     "name": "stdout",
     "output_type": "stream",
     "text": [
      "0\n"
     ]
    }
   ],
   "source": [
    "# Impute NaN in cloud_cover with linear method\n",
    "df['cloud_cover'] = df['cloud_cover'].interpolate(method='linear', limit_direction='both')\n",
    "df['cloud_cover'] = df['cloud_cover'].round(1)\n",
    "\n",
    "print(df['cloud_cover'].isnull().sum())"
   ],
   "metadata": {
    "collapsed": false,
    "ExecuteTime": {
     "end_time": "2023-08-06T17:50:09.194016Z",
     "start_time": "2023-08-06T17:50:09.180983600Z"
    }
   }
  },
  {
   "cell_type": "markdown",
   "source": [
    "### Impute global_radiation"
   ],
   "metadata": {
    "collapsed": false
   }
  },
  {
   "cell_type": "code",
   "execution_count": 61,
   "outputs": [
    {
     "name": "stdout",
     "output_type": "stream",
     "text": [
      "0\n"
     ]
    }
   ],
   "source": [
    "# Impute NaN in global_radiation with linear method\n",
    "df['global_radiation'] = df['global_radiation'].interpolate(method='linear', limit_direction='both')\n",
    "df['global_radiation'] = df['global_radiation'].round(1)\n",
    "\n",
    "print(df['global_radiation'].isnull().sum())\n"
   ],
   "metadata": {
    "collapsed": false,
    "ExecuteTime": {
     "end_time": "2023-08-06T18:02:31.051233Z",
     "start_time": "2023-08-06T18:02:31.040935600Z"
    }
   }
  },
  {
   "cell_type": "markdown",
   "source": [
    "### Impute precipitation"
   ],
   "metadata": {
    "collapsed": false
   }
  },
  {
   "cell_type": "code",
   "execution_count": 62,
   "outputs": [
    {
     "name": "stdout",
     "output_type": "stream",
     "text": [
      "0\n"
     ]
    }
   ],
   "source": [
    "# Impute NaN in precipitation with linear method\n",
    "df['precipitation'] = df['precipitation'].interpolate(method='linear', limit_direction='both')\n",
    "df['precipitation'] = df['precipitation'].round(1)\n",
    "\n",
    "print(df['precipitation'].isnull().sum())"
   ],
   "metadata": {
    "collapsed": false,
    "ExecuteTime": {
     "end_time": "2023-08-06T18:03:00.722868700Z",
     "start_time": "2023-08-06T18:03:00.710388200Z"
    }
   }
  },
  {
   "cell_type": "markdown",
   "source": [
    "### Impute pressure"
   ],
   "metadata": {
    "collapsed": false
   }
  },
  {
   "cell_type": "code",
   "execution_count": 76,
   "outputs": [
    {
     "name": "stdout",
     "output_type": "stream",
     "text": [
      "0\n"
     ]
    }
   ],
   "source": [
    "# Impute NaN in pressure with linear method\n",
    "df['pressure'] = df['pressure'].interpolate(method='linear', limit_direction='both')\n",
    "df['pressure'] = df['pressure'].round(1)\n",
    "\n",
    "print(df['pressure'].isnull().sum())"
   ],
   "metadata": {
    "collapsed": false,
    "ExecuteTime": {
     "end_time": "2023-08-06T18:14:49.740725300Z",
     "start_time": "2023-08-06T18:14:49.730829200Z"
    }
   }
  },
  {
   "cell_type": "markdown",
   "source": [
    "### Impute temperature"
   ],
   "metadata": {
    "collapsed": false
   }
  },
  {
   "cell_type": "markdown",
   "source": [
    "Impute min_temp"
   ],
   "metadata": {
    "collapsed": false
   }
  },
  {
   "cell_type": "code",
   "execution_count": 63,
   "outputs": [
    {
     "name": "stdout",
     "output_type": "stream",
     "text": [
      "0\n"
     ]
    }
   ],
   "source": [
    "# Impute NaN in global_radiation with linear method\n",
    "df['min_temp'] = df['min_temp'].interpolate(method='linear', limit_direction='both')\n",
    "df['min_temp'] = df['min_temp'].round(1)\n",
    "\n",
    "print(df['min_temp'].isnull().sum())"
   ],
   "metadata": {
    "collapsed": false,
    "ExecuteTime": {
     "end_time": "2023-08-06T18:04:52.082690400Z",
     "start_time": "2023-08-06T18:04:52.079405900Z"
    }
   }
  },
  {
   "cell_type": "markdown",
   "source": [
    "Impute max_temp"
   ],
   "metadata": {
    "collapsed": false
   }
  },
  {
   "cell_type": "code",
   "execution_count": 64,
   "outputs": [
    {
     "name": "stdout",
     "output_type": "stream",
     "text": [
      "0\n"
     ]
    }
   ],
   "source": [
    "# Impute NaN in global_radiation with linear method\n",
    "df['max_temp'] = df['max_temp'].interpolate(method='linear', limit_direction='both')\n",
    "df['max_temp'] = df['max_temp'].round(1)\n",
    "\n",
    "print(df['max_temp'].isnull().sum())"
   ],
   "metadata": {
    "collapsed": false,
    "ExecuteTime": {
     "end_time": "2023-08-06T18:05:25.071339800Z",
     "start_time": "2023-08-06T18:05:25.055814200Z"
    }
   }
  },
  {
   "cell_type": "markdown",
   "source": [
    "Impute mean_temp"
   ],
   "metadata": {
    "collapsed": false
   }
  },
  {
   "cell_type": "code",
   "execution_count": 78,
   "outputs": [
    {
     "name": "stdout",
     "output_type": "stream",
     "text": [
      "0\n"
     ]
    }
   ],
   "source": [
    "# Find the rows whose value of mean_temp is NaN\n",
    "null_rows = df[df['mean_temp'].isnull()]\n",
    "\n",
    "# Calculate the mean value of min_temp and max_temp\n",
    "for index, row in null_rows.iterrows():\n",
    "    min_temp = row['min_temp']\n",
    "    max_temp = row['max_temp']\n",
    "    mean_temp = np.mean([min_temp, max_temp])\n",
    "    df.at[index, 'mean_temp'] = mean_temp\n",
    "\n",
    "df['mean_temp'] = df['mean_temp'].round(1)\n",
    "print(df['mean_temp'].isnull().sum())"
   ],
   "metadata": {
    "collapsed": false,
    "ExecuteTime": {
     "end_time": "2023-08-06T18:16:27.895413Z",
     "start_time": "2023-08-06T18:16:27.887822200Z"
    }
   }
  },
  {
   "cell_type": "markdown",
   "source": [
    "### Impute snow_depth"
   ],
   "metadata": {
    "collapsed": false
   }
  },
  {
   "cell_type": "code",
   "execution_count": null,
   "outputs": [],
   "source": [],
   "metadata": {
    "collapsed": false
   }
  }
 ],
 "metadata": {
  "kernelspec": {
   "display_name": "Python 3",
   "language": "python",
   "name": "python3"
  },
  "language_info": {
   "codemirror_mode": {
    "name": "ipython",
    "version": 2
   },
   "file_extension": ".py",
   "mimetype": "text/x-python",
   "name": "python",
   "nbconvert_exporter": "python",
   "pygments_lexer": "ipython2",
   "version": "2.7.6"
  }
 },
 "nbformat": 4,
 "nbformat_minor": 0
}
