{
 "cells": [
  {
   "cell_type": "markdown",
   "metadata": {},
   "source": [
    "# LSTM Regressor"
   ]
  },
  {
   "cell_type": "markdown",
   "metadata": {},
   "source": [
    "Autoregression and predict one day ahead"
   ]
  },
  {
   "cell_type": "markdown",
   "metadata": {},
   "source": [
    "The main idea to train and test the model is shown as follows:\n",
    "1. Split the training set and test set\n",
    "2. Use the cross validation method to find the optimal combination of hyperparameters\n",
    "3. Use the model to predict the data\n",
    "4. Data visualization"
   ]
  },
  {
   "cell_type": "markdown",
   "metadata": {},
   "source": [
    "Import library needed in the model"
   ]
  },
  {
   "cell_type": "code",
   "execution_count": 21,
   "metadata": {
    "ExecuteTime": {
     "end_time": "2023-09-05T21:10:21.311379600Z",
     "start_time": "2023-09-05T21:10:21.300555400Z"
    }
   },
   "outputs": [],
   "source": [
    "from tensorflow.keras.layers import Dense,RepeatVector, LSTM, Dropout\n",
    "from tensorflow.keras.layers import Flatten\n",
    "from tensorflow.keras.layers import Conv1D\n",
    "from tensorflow.keras.layers import MaxPooling1D\n",
    "from tensorflow.keras.models import Sequential\n",
    "from tensorflow.keras.layers import Bidirectional, Dropout\n",
    "import pandas as pd\n",
    "import numpy as np\n",
    "import matplotlib.pyplot as plt"
   ]
  },
  {
   "cell_type": "markdown",
   "metadata": {},
   "source": [
    "Split the training set and test set"
   ]
  },
  {
   "cell_type": "code",
   "execution_count": 22,
   "metadata": {
    "ExecuteTime": {
     "end_time": "2023-09-05T21:10:25.031825Z",
     "start_time": "2023-09-05T21:10:24.997502600Z"
    }
   },
   "outputs": [],
   "source": [
    "df=pd.read_csv('../dataset_for_analysis/data_weather_new1.csv',parse_dates=['date'])\n",
    "df.set_index('date', inplace=True)\n",
    "\n",
    "# Select the data used for model training\n",
    "start_date='2000-01-01'\n",
    "end_date='2020-12-31'\n",
    "training_data=df[start_date:end_date]\n",
    "\n",
    "X_mean_temp=training_data[['mean_temp','precipitation']]"
   ]
  },
  {
   "cell_type": "code",
   "execution_count": 23,
   "metadata": {
    "ExecuteTime": {
     "end_time": "2023-09-05T21:10:26.191263300Z",
     "start_time": "2023-09-05T21:10:26.170469900Z"
    }
   },
   "outputs": [
    {
     "data": {
      "text/plain": "            mean_temp  precipitation\ndate                                \n2000-01-01        7.0            0.0\n2000-01-02        7.9            0.2\n2000-01-03        9.4            6.0\n2000-01-04        7.0            0.2\n2000-01-05        6.4            0.8\n...               ...            ...\n2020-12-27        7.5            2.0\n2020-12-28        1.1            0.2\n2020-12-29        2.6            0.0\n2020-12-30        2.7            0.0\n2020-12-31       -0.8            0.0\n\n[7671 rows x 2 columns]",
      "text/html": "<div>\n<style scoped>\n    .dataframe tbody tr th:only-of-type {\n        vertical-align: middle;\n    }\n\n    .dataframe tbody tr th {\n        vertical-align: top;\n    }\n\n    .dataframe thead th {\n        text-align: right;\n    }\n</style>\n<table border=\"1\" class=\"dataframe\">\n  <thead>\n    <tr style=\"text-align: right;\">\n      <th></th>\n      <th>mean_temp</th>\n      <th>precipitation</th>\n    </tr>\n    <tr>\n      <th>date</th>\n      <th></th>\n      <th></th>\n    </tr>\n  </thead>\n  <tbody>\n    <tr>\n      <th>2000-01-01</th>\n      <td>7.0</td>\n      <td>0.0</td>\n    </tr>\n    <tr>\n      <th>2000-01-02</th>\n      <td>7.9</td>\n      <td>0.2</td>\n    </tr>\n    <tr>\n      <th>2000-01-03</th>\n      <td>9.4</td>\n      <td>6.0</td>\n    </tr>\n    <tr>\n      <th>2000-01-04</th>\n      <td>7.0</td>\n      <td>0.2</td>\n    </tr>\n    <tr>\n      <th>2000-01-05</th>\n      <td>6.4</td>\n      <td>0.8</td>\n    </tr>\n    <tr>\n      <th>...</th>\n      <td>...</td>\n      <td>...</td>\n    </tr>\n    <tr>\n      <th>2020-12-27</th>\n      <td>7.5</td>\n      <td>2.0</td>\n    </tr>\n    <tr>\n      <th>2020-12-28</th>\n      <td>1.1</td>\n      <td>0.2</td>\n    </tr>\n    <tr>\n      <th>2020-12-29</th>\n      <td>2.6</td>\n      <td>0.0</td>\n    </tr>\n    <tr>\n      <th>2020-12-30</th>\n      <td>2.7</td>\n      <td>0.0</td>\n    </tr>\n    <tr>\n      <th>2020-12-31</th>\n      <td>-0.8</td>\n      <td>0.0</td>\n    </tr>\n  </tbody>\n</table>\n<p>7671 rows × 2 columns</p>\n</div>"
     },
     "execution_count": 23,
     "metadata": {},
     "output_type": "execute_result"
    }
   ],
   "source": [
    "X_mean_temp"
   ]
  },
  {
   "cell_type": "markdown",
   "metadata": {},
   "source": [
    "Scaling the data"
   ]
  },
  {
   "cell_type": "code",
   "execution_count": 24,
   "metadata": {
    "ExecuteTime": {
     "end_time": "2023-09-05T21:10:28.126554900Z",
     "start_time": "2023-09-05T21:10:28.075370300Z"
    }
   },
   "outputs": [],
   "source": [
    "from sklearn.preprocessing import MinMaxScaler\n",
    "scalar=MinMaxScaler(feature_range=(-1,1))\n",
    "scaled_mean_temp=scalar.fit_transform(X_mean_temp[['mean_temp','precipitation']])"
   ]
  },
  {
   "cell_type": "code",
   "execution_count": 25,
   "metadata": {
    "ExecuteTime": {
     "end_time": "2023-09-05T21:10:29.416146500Z",
     "start_time": "2023-09-05T21:10:29.396129900Z"
    }
   },
   "outputs": [
    {
     "data": {
      "text/plain": "array([[-0.32110092, -1.        ],\n       [-0.26605505, -0.98019802],\n       [-0.17431193, -0.40594059],\n       ...,\n       [-0.59021407, -1.        ],\n       [-0.58409786, -1.        ],\n       [-0.79816514, -1.        ]])"
     },
     "execution_count": 25,
     "metadata": {},
     "output_type": "execute_result"
    }
   ],
   "source": [
    "scaled_mean_temp"
   ]
  },
  {
   "cell_type": "code",
   "execution_count": 26,
   "metadata": {
    "ExecuteTime": {
     "end_time": "2023-09-05T21:10:30.547828400Z",
     "start_time": "2023-09-05T21:10:30.536498300Z"
    }
   },
   "outputs": [],
   "source": [
    "timestep=30\n",
    "X=[]\n",
    "Y=[]\n",
    "for i in range(len(X_mean_temp)-timestep):\n",
    "    X.append(scaled_mean_temp[i:i+timestep])\n",
    "    Y.append(scaled_mean_temp[i+timestep])"
   ]
  },
  {
   "cell_type": "code",
   "execution_count": 27,
   "metadata": {
    "ExecuteTime": {
     "end_time": "2023-09-05T21:10:31.998277600Z",
     "start_time": "2023-09-05T21:10:31.973723700Z"
    }
   },
   "outputs": [],
   "source": [
    "X=np.asanyarray(X)"
   ]
  },
  {
   "cell_type": "code",
   "execution_count": 28,
   "metadata": {
    "ExecuteTime": {
     "end_time": "2023-09-05T21:10:32.502191Z",
     "start_time": "2023-09-05T21:10:32.475207100Z"
    }
   },
   "outputs": [],
   "source": [
    "Y=np.asanyarray(Y)"
   ]
  },
  {
   "cell_type": "code",
   "execution_count": 29,
   "metadata": {
    "ExecuteTime": {
     "end_time": "2023-09-05T21:10:32.866781100Z",
     "start_time": "2023-09-05T21:10:32.839509500Z"
    }
   },
   "outputs": [],
   "source": [
    "k1 = 6910\n",
    "k2 = 7275\n",
    "Xtrain = X[:k1,:,:]\n",
    "Xtest = X[k1:k2,:,:]\n",
    "X2020 = X[k2:,:,:]\n",
    "Ytrain = Y[:k1]\n",
    "Ytest= Y[k1:k2]\n",
    "Y2020 = Y[k2:]"
   ]
  },
  {
   "cell_type": "code",
   "execution_count": 30,
   "metadata": {
    "ExecuteTime": {
     "end_time": "2023-09-05T21:10:33.388609900Z",
     "start_time": "2023-09-05T21:10:33.374000700Z"
    }
   },
   "outputs": [
    {
     "data": {
      "text/plain": "(6910, 30, 2)"
     },
     "execution_count": 30,
     "metadata": {},
     "output_type": "execute_result"
    }
   ],
   "source": [
    "Xtrain.shape"
   ]
  },
  {
   "cell_type": "code",
   "execution_count": 31,
   "metadata": {
    "ExecuteTime": {
     "end_time": "2023-09-05T21:10:34.164668500Z",
     "start_time": "2023-09-05T21:10:34.151521600Z"
    }
   },
   "outputs": [
    {
     "data": {
      "text/plain": "(365, 30, 2)"
     },
     "execution_count": 31,
     "metadata": {},
     "output_type": "execute_result"
    }
   ],
   "source": [
    "Xtest.shape"
   ]
  },
  {
   "cell_type": "code",
   "execution_count": 32,
   "metadata": {
    "ExecuteTime": {
     "end_time": "2023-09-05T21:10:34.487357500Z",
     "start_time": "2023-09-05T21:10:34.466848Z"
    }
   },
   "outputs": [
    {
     "data": {
      "text/plain": "(366, 30, 2)"
     },
     "execution_count": 32,
     "metadata": {},
     "output_type": "execute_result"
    }
   ],
   "source": [
    "X2020.shape"
   ]
  },
  {
   "cell_type": "markdown",
   "metadata": {},
   "source": [
    "## Single output (predict one day ahead)"
   ]
  },
  {
   "cell_type": "markdown",
   "metadata": {},
   "source": [
    "Create the instance of tensorboard to visualize the results"
   ]
  },
  {
   "cell_type": "code",
   "execution_count": 34,
   "metadata": {
    "ExecuteTime": {
     "end_time": "2023-09-05T21:11:04.506043300Z",
     "start_time": "2023-09-05T21:11:04.490300100Z"
    }
   },
   "outputs": [],
   "source": [
    "from tensorflow.keras.callbacks import TensorBoard\n",
    "tensorboard_callback = TensorBoard(log_dir=\"../lstm_results/mean_temp_and_precipitation_10echos\")"
   ]
  },
  {
   "cell_type": "code",
   "execution_count": null,
   "metadata": {
    "is_executing": true,
    "ExecuteTime": {
     "start_time": "2023-09-05T21:11:07.689749200Z"
    }
   },
   "outputs": [
    {
     "name": "stdout",
     "output_type": "stream",
     "text": [
      "Epoch 1/10\n",
      "216/216 [==============================] - 46s 169ms/step - loss: 0.0709 - val_loss: 0.0634\n",
      "Epoch 2/10\n",
      "216/216 [==============================] - 31s 144ms/step - loss: 0.0592 - val_loss: 0.0594\n",
      "Epoch 3/10\n",
      "216/216 [==============================] - 32s 146ms/step - loss: 0.0571 - val_loss: 0.0589\n",
      "Epoch 4/10\n",
      "216/216 [==============================] - 27s 124ms/step - loss: 0.0574 - val_loss: 0.0578\n",
      "Epoch 5/10\n",
      "216/216 [==============================] - 30s 139ms/step - loss: 0.0556 - val_loss: 0.0594\n",
      "Epoch 6/10\n",
      "216/216 [==============================] - 29s 132ms/step - loss: 0.0545 - val_loss: 0.0554\n",
      "Epoch 7/10\n",
      "  6/216 [..............................] - ETA: 55s - loss: 0.0452"
     ]
    }
   ],
   "source": [
    "# Initiate the model\n",
    "model = Sequential()\n",
    "\n",
    "# Define the input and convolution layer\n",
    "model.add(Conv1D(filters=256, kernel_size=2, activation='relu', input_shape=(30,2)))\n",
    "model.add(Conv1D(filters=128, kernel_size=2, activation='relu'))\n",
    "model.add(MaxPooling1D(pool_size=2))\n",
    "model.add(Flatten())\n",
    "model.add(RepeatVector(30))\n",
    "\n",
    "# Define the LSTM layer\n",
    "model.add(LSTM(units=100, return_sequences=True))\n",
    "model.add(Dropout(0.2))\n",
    "model.add(LSTM(units=100, return_sequences=True))\n",
    "model.add(LSTM(units=100, return_sequences=True))\n",
    "\n",
    "# Define the bidirectional LSTM layer\n",
    "model.add(Bidirectional(LSTM(128, activation='relu')))\n",
    "\n",
    "# Define the dense and output layer\n",
    "model.add(Dense(100, activation='relu'))\n",
    "model.add(Dense(2))\n",
    "\n",
    "# Compile the model\n",
    "model.compile(loss='mse', optimizer='adam')\n",
    "history = model.fit(Xtrain,Ytrain,validation_data=(Xtest,Ytest), epochs=10, verbose=1, callbacks=[tensorboard_callback])"
   ]
  },
  {
   "cell_type": "markdown",
   "metadata": {},
   "source": [
    "Save the model"
   ]
  },
  {
   "cell_type": "code",
   "execution_count": null,
   "metadata": {
    "is_executing": true
   },
   "outputs": [],
   "source": [
    "model.save('../lstm_results/lstm_mean_temp_and_precipitation.hdf5')"
   ]
  },
  {
   "cell_type": "markdown",
   "metadata": {},
   "source": [
    "### Module evaluation and results visualizaiton"
   ]
  },
  {
   "cell_type": "code",
   "execution_count": null,
   "outputs": [],
   "source": [
    "from tensorflow.keras.models import load_model\n",
    "model=load_model('../lstm_results/lstm_mean_temp_and_precipitation.hdf5')"
   ],
   "metadata": {
    "collapsed": false,
    "is_executing": true
   }
  },
  {
   "cell_type": "code",
   "execution_count": null,
   "outputs": [],
   "source": [
    "from tensorflow.keras.utils import plot_model\n",
    "plot_model(model, to_file='model.png')"
   ],
   "metadata": {
    "collapsed": false,
    "is_executing": true
   }
  },
  {
   "cell_type": "code",
   "execution_count": null,
   "metadata": {
    "is_executing": true
   },
   "outputs": [],
   "source": [
    "predicted_result=model.predict(X2020)"
   ]
  },
  {
   "cell_type": "code",
   "execution_count": null,
   "metadata": {
    "is_executing": true
   },
   "outputs": [],
   "source": [
    "predicted_result=scalar.inverse_transform(predicted_result)\n",
    "actual_ytest=scalar.inverse_transform(Y2020)"
   ]
  },
  {
   "cell_type": "code",
   "execution_count": null,
   "metadata": {
    "is_executing": true
   },
   "outputs": [],
   "source": [
    "predicted_result"
   ]
  },
  {
   "cell_type": "code",
   "execution_count": null,
   "metadata": {
    "is_executing": true
   },
   "outputs": [],
   "source": [
    "actual_ytest"
   ]
  },
  {
   "cell_type": "code",
   "execution_count": null,
   "metadata": {
    "is_executing": true
   },
   "outputs": [],
   "source": [
    "from sklearn.metrics import mean_squared_error\n",
    "print(f'The MSE of mean_temp prediction: {mean_squared_error(predicted_result[:,0],actual_ytest[:,0]):.3f}')\n",
    "print(f'The MSE of precipitation prediction: {mean_squared_error(predicted_result[:,1],actual_ytest[:,1]):.3f}')"
   ]
  },
  {
   "cell_type": "markdown",
   "source": [
    "Mean_temp"
   ],
   "metadata": {
    "collapsed": false
   }
  },
  {
   "cell_type": "code",
   "execution_count": null,
   "metadata": {
    "is_executing": true
   },
   "outputs": [],
   "source": [
    "plt.figure(figsize=(20,9))\n",
    "plt.plot(actual_ytest[:,0], 'blue')\n",
    "plt.plot(predicted_result[:,0],'r')\n",
    "plt.legend(('Test','Predicted'))\n",
    "plt.show()"
   ]
  },
  {
   "cell_type": "markdown",
   "source": [
    "Precipitation"
   ],
   "metadata": {
    "collapsed": false
   }
  },
  {
   "cell_type": "code",
   "execution_count": null,
   "outputs": [],
   "source": [
    "plt.figure(figsize=(20,9))\n",
    "plt.plot(actual_ytest[:,1], 'blue')\n",
    "plt.plot(predicted_result[:,1],'r')\n",
    "plt.legend(('Test','Predicted'))\n",
    "plt.show()"
   ],
   "metadata": {
    "collapsed": false,
    "is_executing": true
   }
  },
  {
   "cell_type": "markdown",
   "metadata": {},
   "source": [
    "## Multiple output (predict one week ahead)"
   ]
  },
  {
   "cell_type": "code",
   "execution_count": null,
   "outputs": [],
   "source": [],
   "metadata": {
    "collapsed": false
   }
  }
 ],
 "metadata": {
  "kernelspec": {
   "display_name": "Python 3 (ipykernel)",
   "language": "python",
   "name": "python3"
  },
  "language_info": {
   "codemirror_mode": {
    "name": "ipython",
    "version": 3
   },
   "file_extension": ".py",
   "mimetype": "text/x-python",
   "name": "python",
   "nbconvert_exporter": "python",
   "pygments_lexer": "ipython3",
   "version": "3.11.3"
  }
 },
 "nbformat": 4,
 "nbformat_minor": 1
}
