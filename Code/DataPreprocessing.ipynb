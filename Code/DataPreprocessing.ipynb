{
 "cells": [
  {
   "cell_type": "markdown",
   "source": [
    "# Data preprocessing"
   ],
   "metadata": {
    "collapsed": false
   }
  },
  {
   "cell_type": "markdown",
   "source": [
    "## Check the dataset"
   ],
   "metadata": {
    "collapsed": false
   }
  },
  {
   "cell_type": "markdown",
   "source": [
    "Import the packages"
   ],
   "metadata": {
    "collapsed": false
   }
  },
  {
   "cell_type": "code",
   "execution_count": 115,
   "outputs": [],
   "source": [
    "import pandas as pd\n",
    "import numpy as np"
   ],
   "metadata": {
    "collapsed": false,
    "ExecuteTime": {
     "end_time": "2023-08-07T13:45:28.448045100Z",
     "start_time": "2023-08-07T13:45:28.420629300Z"
    }
   }
  },
  {
   "cell_type": "code",
   "execution_count": 116,
   "outputs": [],
   "source": [
    "df=pd.read_csv('../OriginalDataset/data_weather.csv')"
   ],
   "metadata": {
    "collapsed": false,
    "ExecuteTime": {
     "end_time": "2023-08-07T13:45:43.638139900Z",
     "start_time": "2023-08-07T13:45:43.605736800Z"
    }
   }
  },
  {
   "cell_type": "code",
   "execution_count": 117,
   "outputs": [
    {
     "data": {
      "text/plain": "       date  cloud_cover  sunshine  global_radiation  max_temp  mean_temp  min_temp  precipitation  pressure  snow_depth\n0  19790101          2.0       7.0              52.0       2.3       -4.1      -7.5            0.4  101900.0         9.0\n1  19790102          6.0       1.7              27.0       1.6       -2.6      -7.5            0.0  102530.0         8.0\n2  19790103          5.0       0.0              13.0       1.3       -2.8      -7.2            0.0  102050.0         4.0",
      "text/html": "<div>\n<style scoped>\n    .dataframe tbody tr th:only-of-type {\n        vertical-align: middle;\n    }\n\n    .dataframe tbody tr th {\n        vertical-align: top;\n    }\n\n    .dataframe thead th {\n        text-align: right;\n    }\n</style>\n<table border=\"1\" class=\"dataframe\">\n  <thead>\n    <tr style=\"text-align: right;\">\n      <th></th>\n      <th>date</th>\n      <th>cloud_cover</th>\n      <th>sunshine</th>\n      <th>global_radiation</th>\n      <th>max_temp</th>\n      <th>mean_temp</th>\n      <th>min_temp</th>\n      <th>precipitation</th>\n      <th>pressure</th>\n      <th>snow_depth</th>\n    </tr>\n  </thead>\n  <tbody>\n    <tr>\n      <th>0</th>\n      <td>19790101</td>\n      <td>2.0</td>\n      <td>7.0</td>\n      <td>52.0</td>\n      <td>2.3</td>\n      <td>-4.1</td>\n      <td>-7.5</td>\n      <td>0.4</td>\n      <td>101900.0</td>\n      <td>9.0</td>\n    </tr>\n    <tr>\n      <th>1</th>\n      <td>19790102</td>\n      <td>6.0</td>\n      <td>1.7</td>\n      <td>27.0</td>\n      <td>1.6</td>\n      <td>-2.6</td>\n      <td>-7.5</td>\n      <td>0.0</td>\n      <td>102530.0</td>\n      <td>8.0</td>\n    </tr>\n    <tr>\n      <th>2</th>\n      <td>19790103</td>\n      <td>5.0</td>\n      <td>0.0</td>\n      <td>13.0</td>\n      <td>1.3</td>\n      <td>-2.8</td>\n      <td>-7.2</td>\n      <td>0.0</td>\n      <td>102050.0</td>\n      <td>4.0</td>\n    </tr>\n  </tbody>\n</table>\n</div>"
     },
     "execution_count": 117,
     "metadata": {},
     "output_type": "execute_result"
    }
   ],
   "source": [
    "df.head(3)"
   ],
   "metadata": {
    "collapsed": false,
    "ExecuteTime": {
     "end_time": "2023-08-07T13:45:43.662620700Z",
     "start_time": "2023-08-07T13:45:43.641237300Z"
    }
   }
  },
  {
   "cell_type": "code",
   "execution_count": 118,
   "outputs": [
    {
     "data": {
      "text/plain": "           date  cloud_cover  sunshine  global_radiation  max_temp  mean_temp  min_temp  precipitation  pressure  snow_depth\n15338  20201229          7.0       0.0              21.0       4.1        2.6       1.1            0.0   98830.0         NaN\n15339  20201230          6.0       0.4              22.0       5.6        2.7      -0.1            0.0  100200.0         NaN\n15340  20201231          7.0       1.3              34.0       1.5       -0.8      -3.1            0.0  100500.0         NaN",
      "text/html": "<div>\n<style scoped>\n    .dataframe tbody tr th:only-of-type {\n        vertical-align: middle;\n    }\n\n    .dataframe tbody tr th {\n        vertical-align: top;\n    }\n\n    .dataframe thead th {\n        text-align: right;\n    }\n</style>\n<table border=\"1\" class=\"dataframe\">\n  <thead>\n    <tr style=\"text-align: right;\">\n      <th></th>\n      <th>date</th>\n      <th>cloud_cover</th>\n      <th>sunshine</th>\n      <th>global_radiation</th>\n      <th>max_temp</th>\n      <th>mean_temp</th>\n      <th>min_temp</th>\n      <th>precipitation</th>\n      <th>pressure</th>\n      <th>snow_depth</th>\n    </tr>\n  </thead>\n  <tbody>\n    <tr>\n      <th>15338</th>\n      <td>20201229</td>\n      <td>7.0</td>\n      <td>0.0</td>\n      <td>21.0</td>\n      <td>4.1</td>\n      <td>2.6</td>\n      <td>1.1</td>\n      <td>0.0</td>\n      <td>98830.0</td>\n      <td>NaN</td>\n    </tr>\n    <tr>\n      <th>15339</th>\n      <td>20201230</td>\n      <td>6.0</td>\n      <td>0.4</td>\n      <td>22.0</td>\n      <td>5.6</td>\n      <td>2.7</td>\n      <td>-0.1</td>\n      <td>0.0</td>\n      <td>100200.0</td>\n      <td>NaN</td>\n    </tr>\n    <tr>\n      <th>15340</th>\n      <td>20201231</td>\n      <td>7.0</td>\n      <td>1.3</td>\n      <td>34.0</td>\n      <td>1.5</td>\n      <td>-0.8</td>\n      <td>-3.1</td>\n      <td>0.0</td>\n      <td>100500.0</td>\n      <td>NaN</td>\n    </tr>\n  </tbody>\n</table>\n</div>"
     },
     "execution_count": 118,
     "metadata": {},
     "output_type": "execute_result"
    }
   ],
   "source": [
    "df.tail(3)"
   ],
   "metadata": {
    "collapsed": false,
    "ExecuteTime": {
     "end_time": "2023-08-07T13:45:43.788086900Z",
     "start_time": "2023-08-07T13:45:43.667074600Z"
    }
   }
  },
  {
   "cell_type": "code",
   "execution_count": 119,
   "outputs": [
    {
     "name": "stdout",
     "output_type": "stream",
     "text": [
      "date                  int64\n",
      "cloud_cover         float64\n",
      "sunshine            float64\n",
      "global_radiation    float64\n",
      "max_temp            float64\n",
      "mean_temp           float64\n",
      "min_temp            float64\n",
      "precipitation       float64\n",
      "pressure            float64\n",
      "snow_depth          float64\n",
      "dtype: object\n"
     ]
    }
   ],
   "source": [
    "print(df.dtypes)"
   ],
   "metadata": {
    "collapsed": false,
    "ExecuteTime": {
     "end_time": "2023-08-07T13:45:43.789083300Z",
     "start_time": "2023-08-07T13:45:43.692541700Z"
    }
   }
  },
  {
   "cell_type": "markdown",
   "source": [
    "Find the number of null values for each feature"
   ],
   "metadata": {
    "collapsed": false
   }
  },
  {
   "cell_type": "code",
   "execution_count": 120,
   "outputs": [
    {
     "name": "stdout",
     "output_type": "stream",
     "text": [
      "date                   0\n",
      "cloud_cover           19\n",
      "sunshine               0\n",
      "global_radiation      19\n",
      "max_temp               6\n",
      "mean_temp             36\n",
      "min_temp               2\n",
      "precipitation          6\n",
      "pressure               4\n",
      "snow_depth          1441\n",
      "dtype: int64\n"
     ]
    }
   ],
   "source": [
    "null_values=df.isnull().sum()\n",
    "print(null_values)"
   ],
   "metadata": {
    "collapsed": false,
    "ExecuteTime": {
     "end_time": "2023-08-07T13:45:43.789083300Z",
     "start_time": "2023-08-07T13:45:43.703349700Z"
    }
   }
  },
  {
   "cell_type": "markdown",
   "source": [
    "Convert the 'date' to date type"
   ],
   "metadata": {
    "collapsed": false
   }
  },
  {
   "cell_type": "code",
   "execution_count": 121,
   "outputs": [
    {
     "data": {
      "text/plain": "0   1979-01-01\n1   1979-01-02\n2   1979-01-03\nName: date, dtype: datetime64[ns]"
     },
     "execution_count": 121,
     "metadata": {},
     "output_type": "execute_result"
    }
   ],
   "source": [
    "df['date']=pd.to_datetime(df['date'], format='%Y%m%d')\n",
    "df['date'].head(3)"
   ],
   "metadata": {
    "collapsed": false,
    "ExecuteTime": {
     "end_time": "2023-08-07T13:45:43.837386500Z",
     "start_time": "2023-08-07T13:45:43.735041400Z"
    }
   }
  },
  {
   "cell_type": "markdown",
   "source": [
    "## Data imputation"
   ],
   "metadata": {
    "collapsed": false
   }
  },
  {
   "cell_type": "markdown",
   "source": [
    "### Impute cloud_cover"
   ],
   "metadata": {
    "collapsed": false
   }
  },
  {
   "cell_type": "code",
   "execution_count": 122,
   "outputs": [
    {
     "name": "stdout",
     "output_type": "stream",
     "text": [
      "0\n"
     ]
    }
   ],
   "source": [
    "# Impute NaN in cloud_cover with linear method\n",
    "df['cloud_cover']=df['cloud_cover'].interpolate(method='linear', limit_direction='both')\n",
    "df['cloud_cover']=df['cloud_cover'].round(1)\n",
    "\n",
    "print(df['cloud_cover'].isnull().sum())"
   ],
   "metadata": {
    "collapsed": false,
    "ExecuteTime": {
     "end_time": "2023-08-07T13:45:43.838424400Z",
     "start_time": "2023-08-07T13:45:43.761143700Z"
    }
   }
  },
  {
   "cell_type": "markdown",
   "source": [
    "### Impute global_radiation"
   ],
   "metadata": {
    "collapsed": false
   }
  },
  {
   "cell_type": "code",
   "execution_count": 123,
   "outputs": [
    {
     "name": "stdout",
     "output_type": "stream",
     "text": [
      "0\n"
     ]
    }
   ],
   "source": [
    "# Impute NaN in global_radiation with linear method\n",
    "df['global_radiation']=df['global_radiation'].interpolate(method='linear', limit_direction='both')\n",
    "df['global_radiation']=df['global_radiation'].round(1)\n",
    "\n",
    "print(df['global_radiation'].isnull().sum())\n"
   ],
   "metadata": {
    "collapsed": false,
    "ExecuteTime": {
     "end_time": "2023-08-07T13:45:43.838424400Z",
     "start_time": "2023-08-07T13:45:43.762358500Z"
    }
   }
  },
  {
   "cell_type": "markdown",
   "source": [
    "### Impute precipitation"
   ],
   "metadata": {
    "collapsed": false
   }
  },
  {
   "cell_type": "code",
   "execution_count": 124,
   "outputs": [
    {
     "name": "stdout",
     "output_type": "stream",
     "text": [
      "0\n"
     ]
    }
   ],
   "source": [
    "# Impute NaN in precipitation with linear method\n",
    "df['precipitation']=df['precipitation'].interpolate(method='linear', limit_direction='both')\n",
    "df['precipitation']=df['precipitation'].round(1)\n",
    "\n",
    "print(df['precipitation'].isnull().sum())"
   ],
   "metadata": {
    "collapsed": false,
    "ExecuteTime": {
     "end_time": "2023-08-07T13:45:59.548277900Z",
     "start_time": "2023-08-07T13:45:59.538566300Z"
    }
   }
  },
  {
   "cell_type": "markdown",
   "source": [
    "### Impute pressure"
   ],
   "metadata": {
    "collapsed": false
   }
  },
  {
   "cell_type": "code",
   "execution_count": 125,
   "outputs": [
    {
     "name": "stdout",
     "output_type": "stream",
     "text": [
      "0\n"
     ]
    }
   ],
   "source": [
    "# Impute NaN in pressure with linear method\n",
    "df['pressure']=df['pressure'].interpolate(method='linear', limit_direction='both')\n",
    "df['pressure']=df['pressure'].round(1)\n",
    "\n",
    "print(df['pressure'].isnull().sum())"
   ],
   "metadata": {
    "collapsed": false,
    "ExecuteTime": {
     "end_time": "2023-08-07T13:45:59.569055700Z",
     "start_time": "2023-08-07T13:45:59.554397100Z"
    }
   }
  },
  {
   "cell_type": "markdown",
   "source": [
    "### Impute temperature"
   ],
   "metadata": {
    "collapsed": false
   }
  },
  {
   "cell_type": "markdown",
   "source": [
    "Impute min_temp"
   ],
   "metadata": {
    "collapsed": false
   }
  },
  {
   "cell_type": "code",
   "execution_count": 126,
   "outputs": [
    {
     "name": "stdout",
     "output_type": "stream",
     "text": [
      "0\n"
     ]
    }
   ],
   "source": [
    "# Impute NaN in global_radiation with linear method\n",
    "df['min_temp']=df['min_temp'].interpolate(method='linear', limit_direction='both')\n",
    "df['min_temp']=df['min_temp'].round(1)\n",
    "\n",
    "print(df['min_temp'].isnull().sum())"
   ],
   "metadata": {
    "collapsed": false,
    "ExecuteTime": {
     "end_time": "2023-08-07T13:45:59.643757400Z",
     "start_time": "2023-08-07T13:45:59.576823200Z"
    }
   }
  },
  {
   "cell_type": "markdown",
   "source": [
    "Impute max_temp"
   ],
   "metadata": {
    "collapsed": false
   }
  },
  {
   "cell_type": "code",
   "execution_count": 127,
   "outputs": [
    {
     "name": "stdout",
     "output_type": "stream",
     "text": [
      "0\n"
     ]
    }
   ],
   "source": [
    "# Impute NaN in global_radiation with linear method\n",
    "df['max_temp']=df['max_temp'].interpolate(method='linear', limit_direction='both')\n",
    "df['max_temp']=df['max_temp'].round(1)\n",
    "\n",
    "print(df['max_temp'].isnull().sum())"
   ],
   "metadata": {
    "collapsed": false,
    "ExecuteTime": {
     "end_time": "2023-08-07T13:45:59.645019Z",
     "start_time": "2023-08-07T13:45:59.593485500Z"
    }
   }
  },
  {
   "cell_type": "markdown",
   "source": [
    "Impute mean_temp"
   ],
   "metadata": {
    "collapsed": false
   }
  },
  {
   "cell_type": "code",
   "execution_count": 128,
   "outputs": [
    {
     "name": "stdout",
     "output_type": "stream",
     "text": [
      "0\n"
     ]
    }
   ],
   "source": [
    "# Find the rows whose value of mean_temp is NaN\n",
    "null_rows=df[df['mean_temp'].isnull()]\n",
    "\n",
    "# Calculate the mean value of min_temp and max_temp\n",
    "for index, row in null_rows.iterrows():\n",
    "    min_temp=row['min_temp']\n",
    "    max_temp=row['max_temp']\n",
    "    mean_temp=np.mean([min_temp, max_temp])\n",
    "    df.at[index,'mean_temp']=mean_temp\n",
    "\n",
    "df['mean_temp']=df['mean_temp'].round(1)\n",
    "print(df['mean_temp'].isnull().sum())"
   ],
   "metadata": {
    "collapsed": false,
    "ExecuteTime": {
     "end_time": "2023-08-07T13:45:59.645019Z",
     "start_time": "2023-08-07T13:45:59.608219Z"
    }
   }
  },
  {
   "cell_type": "markdown",
   "source": [
    "### Impute snow_depth"
   ],
   "metadata": {
    "collapsed": false
   }
  },
  {
   "cell_type": "markdown",
   "source": [
    "Calculate the number of days whose snow_depth is not zero for each month"
   ],
   "metadata": {
    "collapsed": false
   }
  },
  {
   "cell_type": "code",
   "execution_count": 133,
   "outputs": [
    {
     "name": "stdout",
     "output_type": "stream",
     "text": [
      "month\n",
      "1     56\n",
      "2     48\n",
      "3      6\n",
      "4      2\n",
      "12    28\n",
      "Name: snow_depth, dtype: int64\n"
     ]
    }
   ],
   "source": [
    "df['year']=df['date'].dt.year\n",
    "df['month']=df['date'].dt.month\n",
    "\n",
    "snow_days_notzero=df[df['snow_depth'] != 0].groupby(['month'])['snow_depth'].count()\n",
    "print(snow_days_notzero)"
   ],
   "metadata": {
    "collapsed": false,
    "ExecuteTime": {
     "end_time": "2023-08-07T13:47:54.938335300Z",
     "start_time": "2023-08-07T13:47:54.919861100Z"
    }
   }
  },
  {
   "cell_type": "markdown",
   "source": [
    "We can learn that from May to November, there are no days that have snow_depth and there are only 2 days with snow_depth in April and 6 days in March with forty years. So impute NaN of snow_depth to 0 in these months as follows."
   ],
   "metadata": {
    "collapsed": false
   }
  },
  {
   "cell_type": "code",
   "execution_count": 132,
   "outputs": [],
   "source": [
    "# Impute NaN of snow_depth to 0\n",
    "months=[3,4,5,6,7,8,9,10,11]\n",
    "df.loc[(df['month'].isin(months))&(df['snow_depth'].isnull()),'snow_depth']=0"
   ],
   "metadata": {
    "collapsed": false,
    "ExecuteTime": {
     "end_time": "2023-08-07T13:47:11.567692400Z",
     "start_time": "2023-08-07T13:47:11.560282300Z"
    }
   }
  },
  {
   "cell_type": "markdown",
   "source": [
    "Calculate the days that the 'snow_depth' is NaN of each month."
   ],
   "metadata": {
    "collapsed": false
   }
  },
  {
   "cell_type": "code",
   "execution_count": 146,
   "outputs": [
    {
     "name": "stdout",
     "output_type": "stream",
     "text": [
      "month\n",
      "1     36\n",
      "2     38\n",
      "3      0\n",
      "4      0\n",
      "5      0\n",
      "6      0\n",
      "7      0\n",
      "8      0\n",
      "9      0\n",
      "10     0\n",
      "11     0\n",
      "12    38\n",
      "Name: snow_depth, dtype: int64\n"
     ]
    }
   ],
   "source": [
    "snow_days_nan=df.groupby(['month'])['snow_depth'].apply(lambda x: x.isnull().sum())\n",
    "print(snow_days_nan)"
   ],
   "metadata": {
    "collapsed": false,
    "ExecuteTime": {
     "end_time": "2023-08-07T13:59:29.313693400Z",
     "start_time": "2023-08-07T13:59:29.301522100Z"
    }
   }
  },
  {
   "cell_type": "code",
   "execution_count": 142,
   "outputs": [],
   "source": [
    "df.to_csv('../dataset_for_analysis/data_weather_new.csv',index=0)"
   ],
   "metadata": {
    "collapsed": false,
    "ExecuteTime": {
     "end_time": "2023-08-07T13:56:23.023946700Z",
     "start_time": "2023-08-07T13:56:22.846021Z"
    }
   }
  }
 ],
 "metadata": {
  "kernelspec": {
   "display_name": "Python 3",
   "language": "python",
   "name": "python3"
  },
  "language_info": {
   "codemirror_mode": {
    "name": "ipython",
    "version": 2
   },
   "file_extension": ".py",
   "mimetype": "text/x-python",
   "name": "python",
   "nbconvert_exporter": "python",
   "pygments_lexer": "ipython2",
   "version": "2.7.6"
  }
 },
 "nbformat": 4,
 "nbformat_minor": 0
}
