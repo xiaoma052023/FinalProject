{
 "cells": [
  {
   "cell_type": "markdown",
   "source": [
    "# Energy consumption prediction"
   ],
   "metadata": {
    "collapsed": false
   }
  },
  {
   "cell_type": "markdown",
   "source": [
    "Here, I will use data_energy file to do analysis and train the model to predict the energy consumption."
   ],
   "metadata": {
    "collapsed": false
   }
  },
  {
   "cell_type": "markdown",
   "source": [
    "## Data preparing"
   ],
   "metadata": {
    "collapsed": false
   }
  },
  {
   "cell_type": "markdown",
   "source": [
    "Import libraries."
   ],
   "metadata": {
    "collapsed": false
   }
  },
  {
   "cell_type": "code",
   "execution_count": 1,
   "outputs": [],
   "source": [
    "import pandas as pd\n",
    "import numpy as np\n",
    "import matplotlib.pyplot as plt"
   ],
   "metadata": {
    "collapsed": false,
    "ExecuteTime": {
     "end_time": "2023-09-07T15:42:51.515722700Z",
     "start_time": "2023-09-07T15:42:51.500947700Z"
    }
   }
  },
  {
   "cell_type": "code",
   "execution_count": 7,
   "outputs": [],
   "source": [
    "df=pd.read_csv('../OriginalDataset/data_energy.csv',parse_dates=['Date'])"
   ],
   "metadata": {
    "collapsed": false,
    "ExecuteTime": {
     "end_time": "2023-09-07T15:51:34.217189900Z",
     "start_time": "2023-09-07T15:51:32.267601400Z"
    }
   }
  },
  {
   "cell_type": "code",
   "execution_count": 8,
   "outputs": [
    {
     "data": {
      "text/plain": "       LCLid       Date     KWH\n0  MAC000002 2012-10-12   7.098\n1  MAC000002 2012-10-13  11.087\n2  MAC000002 2012-10-14  13.223",
      "text/html": "<div>\n<style scoped>\n    .dataframe tbody tr th:only-of-type {\n        vertical-align: middle;\n    }\n\n    .dataframe tbody tr th {\n        vertical-align: top;\n    }\n\n    .dataframe thead th {\n        text-align: right;\n    }\n</style>\n<table border=\"1\" class=\"dataframe\">\n  <thead>\n    <tr style=\"text-align: right;\">\n      <th></th>\n      <th>LCLid</th>\n      <th>Date</th>\n      <th>KWH</th>\n    </tr>\n  </thead>\n  <tbody>\n    <tr>\n      <th>0</th>\n      <td>MAC000002</td>\n      <td>2012-10-12</td>\n      <td>7.098</td>\n    </tr>\n    <tr>\n      <th>1</th>\n      <td>MAC000002</td>\n      <td>2012-10-13</td>\n      <td>11.087</td>\n    </tr>\n    <tr>\n      <th>2</th>\n      <td>MAC000002</td>\n      <td>2012-10-14</td>\n      <td>13.223</td>\n    </tr>\n  </tbody>\n</table>\n</div>"
     },
     "execution_count": 8,
     "metadata": {},
     "output_type": "execute_result"
    }
   ],
   "source": [
    "df.head(3)"
   ],
   "metadata": {
    "collapsed": false,
    "ExecuteTime": {
     "end_time": "2023-09-07T15:51:35.947141200Z",
     "start_time": "2023-09-07T15:51:35.926559700Z"
    }
   }
  },
  {
   "cell_type": "code",
   "execution_count": 9,
   "outputs": [
    {
     "data": {
      "text/plain": "             LCLid       Date    KWH\n3510430  MAC005567 2014-02-26  5.066\n3510431  MAC005567 2014-02-27  3.217\n3510432  MAC005567 2014-02-28  0.366",
      "text/html": "<div>\n<style scoped>\n    .dataframe tbody tr th:only-of-type {\n        vertical-align: middle;\n    }\n\n    .dataframe tbody tr th {\n        vertical-align: top;\n    }\n\n    .dataframe thead th {\n        text-align: right;\n    }\n</style>\n<table border=\"1\" class=\"dataframe\">\n  <thead>\n    <tr style=\"text-align: right;\">\n      <th></th>\n      <th>LCLid</th>\n      <th>Date</th>\n      <th>KWH</th>\n    </tr>\n  </thead>\n  <tbody>\n    <tr>\n      <th>3510430</th>\n      <td>MAC005567</td>\n      <td>2014-02-26</td>\n      <td>5.066</td>\n    </tr>\n    <tr>\n      <th>3510431</th>\n      <td>MAC005567</td>\n      <td>2014-02-27</td>\n      <td>3.217</td>\n    </tr>\n    <tr>\n      <th>3510432</th>\n      <td>MAC005567</td>\n      <td>2014-02-28</td>\n      <td>0.366</td>\n    </tr>\n  </tbody>\n</table>\n</div>"
     },
     "execution_count": 9,
     "metadata": {},
     "output_type": "execute_result"
    }
   ],
   "source": [
    "df.tail(3)"
   ],
   "metadata": {
    "collapsed": false,
    "ExecuteTime": {
     "end_time": "2023-09-07T15:51:36.703119700Z",
     "start_time": "2023-09-07T15:51:36.678763300Z"
    }
   }
  },
  {
   "cell_type": "code",
   "execution_count": 10,
   "outputs": [
    {
     "name": "stdout",
     "output_type": "stream",
     "text": [
      "LCLid            object\n",
      "Date     datetime64[ns]\n",
      "KWH             float64\n",
      "dtype: object\n"
     ]
    }
   ],
   "source": [
    "print(df.dtypes)"
   ],
   "metadata": {
    "collapsed": false,
    "ExecuteTime": {
     "end_time": "2023-09-07T15:51:37.397218700Z",
     "start_time": "2023-09-07T15:51:37.376299700Z"
    }
   }
  },
  {
   "cell_type": "markdown",
   "source": [
    "Find the number of null values for each feature"
   ],
   "metadata": {
    "collapsed": false
   }
  },
  {
   "cell_type": "code",
   "execution_count": 11,
   "outputs": [
    {
     "name": "stdout",
     "output_type": "stream",
     "text": [
      "LCLid    0\n",
      "Date     0\n",
      "KWH      0\n",
      "dtype: int64\n"
     ]
    }
   ],
   "source": [
    "null_values=df.isnull().sum()\n",
    "print(null_values)"
   ],
   "metadata": {
    "collapsed": false,
    "ExecuteTime": {
     "end_time": "2023-09-07T15:51:39.812093200Z",
     "start_time": "2023-09-07T15:51:39.723059600Z"
    }
   }
  },
  {
   "cell_type": "markdown",
   "source": [
    "Count the average energy consumption for each day with different LCLid"
   ],
   "metadata": {
    "collapsed": false
   }
  },
  {
   "cell_type": "code",
   "execution_count": 31,
   "outputs": [],
   "source": [
    "# Calculate the average energy consumption for each day\n",
    "daily_energy = df.groupby(['Date'])['KWH'].mean().reset_index()\n",
    "daily_energy.to_csv('../dataset_for_analysis/data_energy.csv')"
   ],
   "metadata": {
    "collapsed": false,
    "ExecuteTime": {
     "end_time": "2023-09-07T16:39:49.363993100Z",
     "start_time": "2023-09-07T16:39:49.290203600Z"
    }
   }
  }
 ],
 "metadata": {
  "kernelspec": {
   "display_name": "Python 3",
   "language": "python",
   "name": "python3"
  },
  "language_info": {
   "codemirror_mode": {
    "name": "ipython",
    "version": 2
   },
   "file_extension": ".py",
   "mimetype": "text/x-python",
   "name": "python",
   "nbconvert_exporter": "python",
   "pygments_lexer": "ipython2",
   "version": "2.7.6"
  }
 },
 "nbformat": 4,
 "nbformat_minor": 0
}
